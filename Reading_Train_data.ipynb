{
 "cells": [
  {
   "cell_type": "code",
   "execution_count": 1,
   "metadata": {},
   "outputs": [
    {
     "name": "stderr",
     "output_type": "stream",
     "text": [
      "Using TensorFlow backend.\n"
     ]
    }
   ],
   "source": [
    "import numpy as np \n",
    "import pandas as pd \n",
    "import matplotlib.pyplot as plt\n",
    "import cv2\n",
    "from PIL import Image\n",
    "import os\n",
    "from tqdm import tqdm\n",
    "from keras.utils import to_categorical\n",
    "from sklearn.model_selection import train_test_split"
   ]
  },
  {
   "cell_type": "code",
   "execution_count": 2,
   "metadata": {},
   "outputs": [],
   "source": [
    "data=[]\n",
    "label = []\n",
    "height = 30\n",
    "width = 30\n",
    "channels = 3\n",
    "classes = 43\n",
    "n_inputs = height * width*channels"
   ]
  },
  {
   "cell_type": "code",
   "execution_count": 3,
   "metadata": {},
   "outputs": [
    {
     "name": "stderr",
     "output_type": "stream",
     "text": [
      "100%|██████████████████████████████████████████████████████████████████████████████████| 43/43 [00:09<00:00,  6.70it/s]\n"
     ]
    }
   ],
   "source": [
    "for i in tqdm(range(classes)):\n",
    "    path=\"Train/{}/\".format(i)\n",
    "    #print(path)\n",
    "    cl = os.listdir(path)\n",
    "    for x in cl:\n",
    "        try:\n",
    "            img=cv2.imread(path+x)\n",
    "            image = cv2.resize(img,(height,width))\n",
    "            data.append(image)\n",
    "            label.append(i)\n",
    "        except:\n",
    "            pass"
   ]
  },
  {
   "cell_type": "code",
   "execution_count": 4,
   "metadata": {},
   "outputs": [],
   "source": [
    "x = np.array(data)"
   ]
  },
  {
   "cell_type": "code",
   "execution_count": 5,
   "metadata": {},
   "outputs": [],
   "source": [
    "x = x/255.0\n",
    "y= to_categorical(label,classes)"
   ]
  },
  {
   "cell_type": "code",
   "execution_count": 6,
   "metadata": {},
   "outputs": [
    {
     "data": {
      "text/plain": [
       "(39209, 30, 30, 3)"
      ]
     },
     "execution_count": 6,
     "metadata": {},
     "output_type": "execute_result"
    }
   ],
   "source": [
    "x.shape"
   ]
  },
  {
   "cell_type": "code",
   "execution_count": 7,
   "metadata": {},
   "outputs": [],
   "source": [
    "X_train,X_test,Y_train,Y_test = train_test_split(x,y,test_size = 0.2,random_state=0)"
   ]
  },
  {
   "cell_type": "code",
   "execution_count": 8,
   "metadata": {},
   "outputs": [],
   "source": [
    "del data"
   ]
  },
  {
   "cell_type": "code",
   "execution_count": 9,
   "metadata": {},
   "outputs": [],
   "source": [
    "from keras.layers import Dense,Dropout,Flatten,Conv2D,MaxPool2D\n",
    "from keras.models import Sequential"
   ]
  },
  {
   "cell_type": "code",
   "execution_count": 10,
   "metadata": {},
   "outputs": [
    {
     "name": "stdout",
     "output_type": "stream",
     "text": [
      "WARNING:tensorflow:From C:\\ProgramData\\Anaconda3\\lib\\site-packages\\keras\\backend\\tensorflow_backend.py:4070: The name tf.nn.max_pool is deprecated. Please use tf.nn.max_pool2d instead.\n",
      "\n"
     ]
    }
   ],
   "source": [
    "model=Sequential()\n",
    "model.add(Conv2D(32,(5,5),input_shape=(height,width,3),activation='relu'))\n",
    "model.add(MaxPool2D(pool_size=(2,2)))\n",
    "model.add(Dropout(.2))\n",
    "\n",
    "model.add(Conv2D(64,(3,3),activation='relu'))\n",
    "model.add(MaxPool2D(pool_size=(2,2)))\n",
    "model.add(Dropout(.2))\n",
    "\n",
    "model.add(Conv2D(128,(3,3),activation='relu'))\n",
    "model.add(MaxPool2D(pool_size=(2,2)))\n",
    "model.add(Dropout(.2))\n",
    "\n",
    "model.add(Flatten())\n",
    "model.add(Dense(128, activation='relu'))\n",
    "model.add(Dropout(.2))\n",
    "model.add(Dense(128, activation='relu'))\n",
    "model.add(Dropout(.2))\n",
    "\n",
    "model.add(Dense(43, activation='softmax'))\n"
   ]
  },
  {
   "cell_type": "code",
   "execution_count": 11,
   "metadata": {},
   "outputs": [
    {
     "name": "stdout",
     "output_type": "stream",
     "text": [
      "Model: \"sequential_1\"\n",
      "_________________________________________________________________\n",
      "Layer (type)                 Output Shape              Param #   \n",
      "=================================================================\n",
      "conv2d_1 (Conv2D)            (None, 26, 26, 32)        2432      \n",
      "_________________________________________________________________\n",
      "max_pooling2d_1 (MaxPooling2 (None, 13, 13, 32)        0         \n",
      "_________________________________________________________________\n",
      "dropout_1 (Dropout)          (None, 13, 13, 32)        0         \n",
      "_________________________________________________________________\n",
      "conv2d_2 (Conv2D)            (None, 11, 11, 64)        18496     \n",
      "_________________________________________________________________\n",
      "max_pooling2d_2 (MaxPooling2 (None, 5, 5, 64)          0         \n",
      "_________________________________________________________________\n",
      "dropout_2 (Dropout)          (None, 5, 5, 64)          0         \n",
      "_________________________________________________________________\n",
      "conv2d_3 (Conv2D)            (None, 3, 3, 128)         73856     \n",
      "_________________________________________________________________\n",
      "max_pooling2d_3 (MaxPooling2 (None, 1, 1, 128)         0         \n",
      "_________________________________________________________________\n",
      "dropout_3 (Dropout)          (None, 1, 1, 128)         0         \n",
      "_________________________________________________________________\n",
      "flatten_1 (Flatten)          (None, 128)               0         \n",
      "_________________________________________________________________\n",
      "dense_1 (Dense)              (None, 128)               16512     \n",
      "_________________________________________________________________\n",
      "dropout_4 (Dropout)          (None, 128)               0         \n",
      "_________________________________________________________________\n",
      "dense_2 (Dense)              (None, 128)               16512     \n",
      "_________________________________________________________________\n",
      "dropout_5 (Dropout)          (None, 128)               0         \n",
      "_________________________________________________________________\n",
      "dense_3 (Dense)              (None, 43)                5547      \n",
      "=================================================================\n",
      "Total params: 133,355\n",
      "Trainable params: 133,355\n",
      "Non-trainable params: 0\n",
      "_________________________________________________________________\n"
     ]
    }
   ],
   "source": [
    "model.summary()"
   ]
  },
  {
   "cell_type": "code",
   "execution_count": 12,
   "metadata": {},
   "outputs": [],
   "source": [
    "model.compile(optimizer='adam',loss='categorical_crossentropy',metrics=['accuracy'])"
   ]
  },
  {
   "cell_type": "code",
   "execution_count": 13,
   "metadata": {},
   "outputs": [],
   "source": [
    "from keras.callbacks import EarlyStopping\n",
    "early = EarlyStopping(monitor='val_loss',mode='min',patience='5',verbose=1)\n"
   ]
  },
  {
   "cell_type": "code",
   "execution_count": 14,
   "metadata": {},
   "outputs": [
    {
     "name": "stdout",
     "output_type": "stream",
     "text": [
      "WARNING:tensorflow:From C:\\ProgramData\\Anaconda3\\lib\\site-packages\\keras\\backend\\tensorflow_backend.py:422: The name tf.global_variables is deprecated. Please use tf.compat.v1.global_variables instead.\n",
      "\n",
      "Train on 31367 samples, validate on 7842 samples\n",
      "Epoch 1/15\n",
      "31367/31367 [==============================] - ETA: 27:54 - loss: 3.7495 - accuracy: 0.033 - ETA: 3:34 - loss: 3.7698 - accuracy: 0.037 - ETA: 1:49 - loss: 3.7373 - accuracy: 0.05 - ETA: 1:14 - loss: 3.6861 - accuracy: 0.05 - ETA: 57s - loss: 3.6731 - accuracy: 0.0490 - ETA: 46s - loss: 3.6542 - accuracy: 0.048 - ETA: 38s - loss: 3.6425 - accuracy: 0.048 - ETA: 34s - loss: 3.6326 - accuracy: 0.048 - ETA: 30s - loss: 3.6246 - accuracy: 0.051 - ETA: 27s - loss: 3.6227 - accuracy: 0.050 - ETA: 24s - loss: 3.6108 - accuracy: 0.052 - ETA: 22s - loss: 3.6023 - accuracy: 0.052 - ETA: 21s - loss: 3.5957 - accuracy: 0.051 - ETA: 19s - loss: 3.5936 - accuracy: 0.052 - ETA: 18s - loss: 3.5846 - accuracy: 0.052 - ETA: 17s - loss: 3.5799 - accuracy: 0.054 - ETA: 16s - loss: 3.5746 - accuracy: 0.055 - ETA: 15s - loss: 3.5653 - accuracy: 0.057 - ETA: 15s - loss: 3.5585 - accuracy: 0.058 - ETA: 14s - loss: 3.5541 - accuracy: 0.058 - ETA: 13s - loss: 3.5478 - accuracy: 0.059 - ETA: 13s - loss: 3.5375 - accuracy: 0.063 - ETA: 12s - loss: 3.5294 - accuracy: 0.064 - ETA: 12s - loss: 3.5239 - accuracy: 0.066 - ETA: 11s - loss: 3.5135 - accuracy: 0.066 - ETA: 11s - loss: 3.4993 - accuracy: 0.067 - ETA: 11s - loss: 3.4902 - accuracy: 0.069 - ETA: 10s - loss: 3.4801 - accuracy: 0.071 - ETA: 10s - loss: 3.4715 - accuracy: 0.072 - ETA: 10s - loss: 3.4638 - accuracy: 0.074 - ETA: 9s - loss: 3.4519 - accuracy: 0.076 - ETA: 9s - loss: 3.4369 - accuracy: 0.07 - ETA: 9s - loss: 3.4222 - accuracy: 0.08 - ETA: 9s - loss: 3.4058 - accuracy: 0.08 - ETA: 8s - loss: 3.3944 - accuracy: 0.08 - ETA: 8s - loss: 3.3809 - accuracy: 0.08 - ETA: 8s - loss: 3.3627 - accuracy: 0.09 - ETA: 8s - loss: 3.3448 - accuracy: 0.09 - ETA: 7s - loss: 3.3283 - accuracy: 0.09 - ETA: 7s - loss: 3.3091 - accuracy: 0.10 - ETA: 7s - loss: 3.2896 - accuracy: 0.10 - ETA: 7s - loss: 3.2683 - accuracy: 0.11 - ETA: 7s - loss: 3.2511 - accuracy: 0.11 - ETA: 7s - loss: 3.2315 - accuracy: 0.11 - ETA: 6s - loss: 3.2091 - accuracy: 0.12 - ETA: 6s - loss: 3.1900 - accuracy: 0.12 - ETA: 6s - loss: 3.1734 - accuracy: 0.13 - ETA: 6s - loss: 3.1496 - accuracy: 0.13 - ETA: 6s - loss: 3.1274 - accuracy: 0.13 - ETA: 6s - loss: 3.1098 - accuracy: 0.14 - ETA: 6s - loss: 3.0867 - accuracy: 0.14 - ETA: 5s - loss: 3.0667 - accuracy: 0.15 - ETA: 5s - loss: 3.0454 - accuracy: 0.15 - ETA: 5s - loss: 3.0256 - accuracy: 0.16 - ETA: 5s - loss: 3.0047 - accuracy: 0.16 - ETA: 5s - loss: 2.9856 - accuracy: 0.17 - ETA: 5s - loss: 2.9669 - accuracy: 0.17 - ETA: 5s - loss: 2.9509 - accuracy: 0.17 - ETA: 5s - loss: 2.9310 - accuracy: 0.18 - ETA: 5s - loss: 2.9127 - accuracy: 0.18 - ETA: 4s - loss: 2.8962 - accuracy: 0.18 - ETA: 4s - loss: 2.8817 - accuracy: 0.19 - ETA: 4s - loss: 2.8711 - accuracy: 0.19 - ETA: 4s - loss: 2.8601 - accuracy: 0.19 - ETA: 4s - loss: 2.8471 - accuracy: 0.20 - ETA: 4s - loss: 2.8366 - accuracy: 0.20 - ETA: 4s - loss: 2.8224 - accuracy: 0.20 - ETA: 4s - loss: 2.8087 - accuracy: 0.20 - ETA: 4s - loss: 2.7945 - accuracy: 0.21 - ETA: 4s - loss: 2.7820 - accuracy: 0.21 - ETA: 4s - loss: 2.7693 - accuracy: 0.21 - ETA: 4s - loss: 2.7571 - accuracy: 0.22 - ETA: 4s - loss: 2.7435 - accuracy: 0.22 - ETA: 3s - loss: 2.7295 - accuracy: 0.22 - ETA: 3s - loss: 2.7148 - accuracy: 0.23 - ETA: 3s - loss: 2.7020 - accuracy: 0.23 - ETA: 3s - loss: 2.6891 - accuracy: 0.23 - ETA: 3s - loss: 2.6732 - accuracy: 0.23 - ETA: 3s - loss: 2.6581 - accuracy: 0.24 - ETA: 3s - loss: 2.6429 - accuracy: 0.24 - ETA: 3s - loss: 2.6321 - accuracy: 0.24 - ETA: 3s - loss: 2.6218 - accuracy: 0.25 - ETA: 3s - loss: 2.6116 - accuracy: 0.25 - ETA: 3s - loss: 2.6009 - accuracy: 0.25 - ETA: 3s - loss: 2.5893 - accuracy: 0.25 - ETA: 2s - loss: 2.5784 - accuracy: 0.26 - ETA: 2s - loss: 2.5694 - accuracy: 0.26 - ETA: 2s - loss: 2.5583 - accuracy: 0.26 - ETA: 2s - loss: 2.5442 - accuracy: 0.26 - ETA: 2s - loss: 2.5261 - accuracy: 0.27 - ETA: 2s - loss: 2.5126 - accuracy: 0.27 - ETA: 2s - loss: 2.4993 - accuracy: 0.27 - ETA: 2s - loss: 2.4860 - accuracy: 0.28 - ETA: 2s - loss: 2.4732 - accuracy: 0.28 - ETA: 2s - loss: 2.4612 - accuracy: 0.28 - ETA: 2s - loss: 2.4513 - accuracy: 0.29 - ETA: 2s - loss: 2.4388 - accuracy: 0.29 - ETA: 1s - loss: 2.4269 - accuracy: 0.29 - ETA: 1s - loss: 2.4145 - accuracy: 0.30 - ETA: 1s - loss: 2.4048 - accuracy: 0.30 - ETA: 1s - loss: 2.3942 - accuracy: 0.30 - ETA: 1s - loss: 2.3855 - accuracy: 0.30 - ETA: 1s - loss: 2.3744 - accuracy: 0.31 - ETA: 1s - loss: 2.3633 - accuracy: 0.31 - ETA: 1s - loss: 2.3506 - accuracy: 0.31 - ETA: 1s - loss: 2.3394 - accuracy: 0.32 - ETA: 1s - loss: 2.3277 - accuracy: 0.32 - ETA: 1s - loss: 2.3156 - accuracy: 0.32 - ETA: 1s - loss: 2.3055 - accuracy: 0.32 - ETA: 1s - loss: 2.2962 - accuracy: 0.33 - ETA: 0s - loss: 2.2849 - accuracy: 0.33 - ETA: 0s - loss: 2.2769 - accuracy: 0.33 - ETA: 0s - loss: 2.2652 - accuracy: 0.34 - ETA: 0s - loss: 2.2550 - accuracy: 0.34 - ETA: 0s - loss: 2.2466 - accuracy: 0.34 - ETA: 0s - loss: 2.2357 - accuracy: 0.34 - ETA: 0s - loss: 2.2263 - accuracy: 0.35 - ETA: 0s - loss: 2.2168 - accuracy: 0.35 - ETA: 0s - loss: 2.2073 - accuracy: 0.35 - ETA: 0s - loss: 2.1970 - accuracy: 0.35 - ETA: 0s - loss: 2.1880 - accuracy: 0.36 - ETA: 0s - loss: 2.1793 - accuracy: 0.36 - ETA: 0s - loss: 2.1692 - accuracy: 0.36 - ETA: 0s - loss: 2.1590 - accuracy: 0.36 - 9s 285us/step - loss: 2.1484 - accuracy: 0.3709 - val_loss: 0.7043 - val_accuracy: 0.7953\n",
      "Epoch 2/15\n"
     ]
    },
    {
     "name": "stdout",
     "output_type": "stream",
     "text": [
      "31367/31367 [==============================] - ETA: 11s - loss: 1.2956 - accuracy: 0.633 - ETA: 7s - loss: 1.0217 - accuracy: 0.677 - ETA: 7s - loss: 0.9868 - accuracy: 0.69 - ETA: 6s - loss: 0.9770 - accuracy: 0.69 - ETA: 6s - loss: 0.9533 - accuracy: 0.69 - ETA: 6s - loss: 0.9355 - accuracy: 0.69 - ETA: 6s - loss: 0.9490 - accuracy: 0.69 - ETA: 6s - loss: 0.9430 - accuracy: 0.69 - ETA: 6s - loss: 0.9341 - accuracy: 0.69 - ETA: 6s - loss: 0.9268 - accuracy: 0.69 - ETA: 6s - loss: 0.9245 - accuracy: 0.69 - ETA: 6s - loss: 0.9167 - accuracy: 0.69 - ETA: 6s - loss: 0.9136 - accuracy: 0.70 - ETA: 6s - loss: 0.9167 - accuracy: 0.69 - ETA: 6s - loss: 0.9093 - accuracy: 0.69 - ETA: 6s - loss: 0.9106 - accuracy: 0.70 - ETA: 6s - loss: 0.9220 - accuracy: 0.69 - ETA: 6s - loss: 0.9238 - accuracy: 0.69 - ETA: 5s - loss: 0.9159 - accuracy: 0.70 - ETA: 5s - loss: 0.9143 - accuracy: 0.70 - ETA: 5s - loss: 0.9115 - accuracy: 0.70 - ETA: 5s - loss: 0.9106 - accuracy: 0.70 - ETA: 5s - loss: 0.9060 - accuracy: 0.70 - ETA: 5s - loss: 0.8983 - accuracy: 0.70 - ETA: 5s - loss: 0.8949 - accuracy: 0.70 - ETA: 5s - loss: 0.8914 - accuracy: 0.71 - ETA: 5s - loss: 0.8899 - accuracy: 0.71 - ETA: 5s - loss: 0.8863 - accuracy: 0.71 - ETA: 5s - loss: 0.8824 - accuracy: 0.71 - ETA: 5s - loss: 0.8787 - accuracy: 0.71 - ETA: 5s - loss: 0.8750 - accuracy: 0.71 - ETA: 4s - loss: 0.8659 - accuracy: 0.71 - ETA: 4s - loss: 0.8632 - accuracy: 0.72 - ETA: 4s - loss: 0.8608 - accuracy: 0.72 - ETA: 4s - loss: 0.8598 - accuracy: 0.72 - ETA: 4s - loss: 0.8579 - accuracy: 0.72 - ETA: 4s - loss: 0.8556 - accuracy: 0.72 - ETA: 4s - loss: 0.8542 - accuracy: 0.72 - ETA: 4s - loss: 0.8525 - accuracy: 0.72 - ETA: 4s - loss: 0.8494 - accuracy: 0.72 - ETA: 4s - loss: 0.8463 - accuracy: 0.72 - ETA: 4s - loss: 0.8461 - accuracy: 0.72 - ETA: 4s - loss: 0.8406 - accuracy: 0.72 - ETA: 4s - loss: 0.8402 - accuracy: 0.72 - ETA: 4s - loss: 0.8372 - accuracy: 0.72 - ETA: 4s - loss: 0.8343 - accuracy: 0.72 - ETA: 4s - loss: 0.8307 - accuracy: 0.73 - ETA: 4s - loss: 0.8265 - accuracy: 0.73 - ETA: 4s - loss: 0.8232 - accuracy: 0.73 - ETA: 4s - loss: 0.8201 - accuracy: 0.73 - ETA: 4s - loss: 0.8189 - accuracy: 0.73 - ETA: 4s - loss: 0.8149 - accuracy: 0.73 - ETA: 4s - loss: 0.8126 - accuracy: 0.73 - ETA: 4s - loss: 0.8089 - accuracy: 0.73 - ETA: 4s - loss: 0.8063 - accuracy: 0.73 - ETA: 3s - loss: 0.8029 - accuracy: 0.73 - ETA: 3s - loss: 0.7985 - accuracy: 0.74 - ETA: 3s - loss: 0.7957 - accuracy: 0.74 - ETA: 3s - loss: 0.7966 - accuracy: 0.74 - ETA: 3s - loss: 0.7949 - accuracy: 0.74 - ETA: 3s - loss: 0.7900 - accuracy: 0.74 - ETA: 3s - loss: 0.7852 - accuracy: 0.74 - ETA: 3s - loss: 0.7821 - accuracy: 0.74 - ETA: 3s - loss: 0.7810 - accuracy: 0.74 - ETA: 3s - loss: 0.7781 - accuracy: 0.74 - ETA: 3s - loss: 0.7742 - accuracy: 0.75 - ETA: 3s - loss: 0.7724 - accuracy: 0.75 - ETA: 3s - loss: 0.7713 - accuracy: 0.75 - ETA: 3s - loss: 0.7694 - accuracy: 0.75 - ETA: 3s - loss: 0.7670 - accuracy: 0.75 - ETA: 3s - loss: 0.7647 - accuracy: 0.75 - ETA: 2s - loss: 0.7624 - accuracy: 0.75 - ETA: 2s - loss: 0.7607 - accuracy: 0.75 - ETA: 2s - loss: 0.7586 - accuracy: 0.75 - ETA: 2s - loss: 0.7554 - accuracy: 0.75 - ETA: 2s - loss: 0.7528 - accuracy: 0.75 - ETA: 2s - loss: 0.7497 - accuracy: 0.75 - ETA: 2s - loss: 0.7462 - accuracy: 0.75 - ETA: 2s - loss: 0.7426 - accuracy: 0.76 - ETA: 2s - loss: 0.7388 - accuracy: 0.76 - ETA: 2s - loss: 0.7374 - accuracy: 0.76 - ETA: 2s - loss: 0.7363 - accuracy: 0.76 - ETA: 2s - loss: 0.7345 - accuracy: 0.76 - ETA: 2s - loss: 0.7343 - accuracy: 0.76 - ETA: 2s - loss: 0.7322 - accuracy: 0.76 - ETA: 2s - loss: 0.7308 - accuracy: 0.76 - ETA: 2s - loss: 0.7289 - accuracy: 0.76 - ETA: 2s - loss: 0.7276 - accuracy: 0.76 - ETA: 2s - loss: 0.7267 - accuracy: 0.76 - ETA: 2s - loss: 0.7251 - accuracy: 0.76 - ETA: 2s - loss: 0.7225 - accuracy: 0.76 - ETA: 1s - loss: 0.7213 - accuracy: 0.76 - ETA: 1s - loss: 0.7193 - accuracy: 0.76 - ETA: 1s - loss: 0.7172 - accuracy: 0.76 - ETA: 1s - loss: 0.7160 - accuracy: 0.76 - ETA: 1s - loss: 0.7131 - accuracy: 0.76 - ETA: 1s - loss: 0.7125 - accuracy: 0.77 - ETA: 1s - loss: 0.7118 - accuracy: 0.77 - ETA: 1s - loss: 0.7109 - accuracy: 0.77 - ETA: 1s - loss: 0.7089 - accuracy: 0.77 - ETA: 1s - loss: 0.7071 - accuracy: 0.77 - ETA: 1s - loss: 0.7054 - accuracy: 0.77 - ETA: 1s - loss: 0.7050 - accuracy: 0.77 - ETA: 1s - loss: 0.7050 - accuracy: 0.77 - ETA: 1s - loss: 0.7024 - accuracy: 0.77 - ETA: 1s - loss: 0.7020 - accuracy: 0.77 - ETA: 1s - loss: 0.7003 - accuracy: 0.77 - ETA: 1s - loss: 0.6978 - accuracy: 0.77 - ETA: 1s - loss: 0.6970 - accuracy: 0.77 - ETA: 1s - loss: 0.6942 - accuracy: 0.77 - ETA: 0s - loss: 0.6933 - accuracy: 0.77 - ETA: 0s - loss: 0.6914 - accuracy: 0.77 - ETA: 0s - loss: 0.6902 - accuracy: 0.77 - ETA: 0s - loss: 0.6888 - accuracy: 0.77 - ETA: 0s - loss: 0.6865 - accuracy: 0.77 - ETA: 0s - loss: 0.6845 - accuracy: 0.77 - ETA: 0s - loss: 0.6823 - accuracy: 0.77 - ETA: 0s - loss: 0.6806 - accuracy: 0.78 - ETA: 0s - loss: 0.6781 - accuracy: 0.78 - ETA: 0s - loss: 0.6759 - accuracy: 0.78 - ETA: 0s - loss: 0.6733 - accuracy: 0.78 - ETA: 0s - loss: 0.6728 - accuracy: 0.78 - ETA: 0s - loss: 0.6711 - accuracy: 0.78 - ETA: 0s - loss: 0.6706 - accuracy: 0.78 - ETA: 0s - loss: 0.6694 - accuracy: 0.78 - ETA: 0s - loss: 0.6678 - accuracy: 0.78 - ETA: 0s - loss: 0.6676 - accuracy: 0.78 - ETA: 0s - loss: 0.6657 - accuracy: 0.78 - ETA: 0s - loss: 0.6634 - accuracy: 0.78 - 8s 241us/step - loss: 0.6629 - accuracy: 0.7868 - val_loss: 0.2334 - val_accuracy: 0.9281\n",
      "Epoch 3/15\n"
     ]
    },
    {
     "name": "stdout",
     "output_type": "stream",
     "text": [
      "31367/31367 [==============================] - ETA: 8s - loss: 0.7911 - accuracy: 0.66 - ETA: 6s - loss: 0.5185 - accuracy: 0.82 - ETA: 6s - loss: 0.4598 - accuracy: 0.85 - ETA: 6s - loss: 0.4666 - accuracy: 0.85 - ETA: 6s - loss: 0.4655 - accuracy: 0.85 - ETA: 6s - loss: 0.4346 - accuracy: 0.86 - ETA: 6s - loss: 0.4284 - accuracy: 0.86 - ETA: 5s - loss: 0.4463 - accuracy: 0.85 - ETA: 5s - loss: 0.4432 - accuracy: 0.85 - ETA: 5s - loss: 0.4487 - accuracy: 0.85 - ETA: 5s - loss: 0.4555 - accuracy: 0.85 - ETA: 5s - loss: 0.4566 - accuracy: 0.85 - ETA: 5s - loss: 0.4593 - accuracy: 0.85 - ETA: 5s - loss: 0.4632 - accuracy: 0.85 - ETA: 5s - loss: 0.4631 - accuracy: 0.85 - ETA: 5s - loss: 0.4559 - accuracy: 0.85 - ETA: 5s - loss: 0.4633 - accuracy: 0.85 - ETA: 5s - loss: 0.4550 - accuracy: 0.85 - ETA: 5s - loss: 0.4524 - accuracy: 0.85 - ETA: 5s - loss: 0.4514 - accuracy: 0.85 - ETA: 5s - loss: 0.4486 - accuracy: 0.85 - ETA: 5s - loss: 0.4484 - accuracy: 0.86 - ETA: 5s - loss: 0.4471 - accuracy: 0.86 - ETA: 5s - loss: 0.4474 - accuracy: 0.85 - ETA: 5s - loss: 0.4455 - accuracy: 0.86 - ETA: 5s - loss: 0.4440 - accuracy: 0.86 - ETA: 5s - loss: 0.4441 - accuracy: 0.85 - ETA: 5s - loss: 0.4434 - accuracy: 0.86 - ETA: 5s - loss: 0.4406 - accuracy: 0.86 - ETA: 5s - loss: 0.4426 - accuracy: 0.86 - ETA: 4s - loss: 0.4421 - accuracy: 0.86 - ETA: 4s - loss: 0.4448 - accuracy: 0.86 - ETA: 4s - loss: 0.4445 - accuracy: 0.86 - ETA: 4s - loss: 0.4424 - accuracy: 0.86 - ETA: 4s - loss: 0.4399 - accuracy: 0.86 - ETA: 4s - loss: 0.4409 - accuracy: 0.86 - ETA: 4s - loss: 0.4424 - accuracy: 0.86 - ETA: 4s - loss: 0.4419 - accuracy: 0.86 - ETA: 4s - loss: 0.4425 - accuracy: 0.86 - ETA: 4s - loss: 0.4411 - accuracy: 0.86 - ETA: 4s - loss: 0.4414 - accuracy: 0.86 - ETA: 4s - loss: 0.4404 - accuracy: 0.86 - ETA: 4s - loss: 0.4367 - accuracy: 0.86 - ETA: 4s - loss: 0.4342 - accuracy: 0.86 - ETA: 4s - loss: 0.4351 - accuracy: 0.86 - ETA: 4s - loss: 0.4341 - accuracy: 0.86 - ETA: 4s - loss: 0.4355 - accuracy: 0.86 - ETA: 3s - loss: 0.4345 - accuracy: 0.86 - ETA: 3s - loss: 0.4331 - accuracy: 0.86 - ETA: 3s - loss: 0.4342 - accuracy: 0.86 - ETA: 3s - loss: 0.4351 - accuracy: 0.86 - ETA: 3s - loss: 0.4352 - accuracy: 0.86 - ETA: 3s - loss: 0.4334 - accuracy: 0.86 - ETA: 3s - loss: 0.4326 - accuracy: 0.86 - ETA: 3s - loss: 0.4313 - accuracy: 0.86 - ETA: 3s - loss: 0.4312 - accuracy: 0.86 - ETA: 3s - loss: 0.4301 - accuracy: 0.86 - ETA: 3s - loss: 0.4289 - accuracy: 0.86 - ETA: 3s - loss: 0.4271 - accuracy: 0.86 - ETA: 3s - loss: 0.4252 - accuracy: 0.86 - ETA: 3s - loss: 0.4247 - accuracy: 0.86 - ETA: 3s - loss: 0.4243 - accuracy: 0.86 - ETA: 3s - loss: 0.4240 - accuracy: 0.86 - ETA: 3s - loss: 0.4227 - accuracy: 0.86 - ETA: 3s - loss: 0.4213 - accuracy: 0.86 - ETA: 2s - loss: 0.4212 - accuracy: 0.86 - ETA: 2s - loss: 0.4206 - accuracy: 0.86 - ETA: 2s - loss: 0.4196 - accuracy: 0.86 - ETA: 2s - loss: 0.4201 - accuracy: 0.86 - ETA: 2s - loss: 0.4208 - accuracy: 0.86 - ETA: 2s - loss: 0.4195 - accuracy: 0.86 - ETA: 2s - loss: 0.4195 - accuracy: 0.86 - ETA: 2s - loss: 0.4171 - accuracy: 0.86 - ETA: 2s - loss: 0.4159 - accuracy: 0.86 - ETA: 2s - loss: 0.4152 - accuracy: 0.86 - ETA: 2s - loss: 0.4135 - accuracy: 0.86 - ETA: 2s - loss: 0.4132 - accuracy: 0.86 - ETA: 2s - loss: 0.4137 - accuracy: 0.86 - ETA: 2s - loss: 0.4141 - accuracy: 0.86 - ETA: 2s - loss: 0.4134 - accuracy: 0.86 - ETA: 2s - loss: 0.4133 - accuracy: 0.86 - ETA: 2s - loss: 0.4130 - accuracy: 0.86 - ETA: 2s - loss: 0.4129 - accuracy: 0.86 - ETA: 2s - loss: 0.4118 - accuracy: 0.86 - ETA: 2s - loss: 0.4121 - accuracy: 0.86 - ETA: 1s - loss: 0.4101 - accuracy: 0.86 - ETA: 1s - loss: 0.4084 - accuracy: 0.86 - ETA: 1s - loss: 0.4077 - accuracy: 0.86 - ETA: 1s - loss: 0.4069 - accuracy: 0.87 - ETA: 1s - loss: 0.4060 - accuracy: 0.87 - ETA: 1s - loss: 0.4044 - accuracy: 0.87 - ETA: 1s - loss: 0.4036 - accuracy: 0.87 - ETA: 1s - loss: 0.4041 - accuracy: 0.87 - ETA: 1s - loss: 0.4035 - accuracy: 0.87 - ETA: 1s - loss: 0.4029 - accuracy: 0.87 - ETA: 1s - loss: 0.4026 - accuracy: 0.87 - ETA: 1s - loss: 0.4026 - accuracy: 0.87 - ETA: 1s - loss: 0.4018 - accuracy: 0.87 - ETA: 1s - loss: 0.4011 - accuracy: 0.87 - ETA: 1s - loss: 0.4008 - accuracy: 0.87 - ETA: 1s - loss: 0.4000 - accuracy: 0.87 - ETA: 1s - loss: 0.3998 - accuracy: 0.87 - ETA: 1s - loss: 0.3987 - accuracy: 0.87 - ETA: 1s - loss: 0.3980 - accuracy: 0.87 - ETA: 1s - loss: 0.3982 - accuracy: 0.87 - ETA: 1s - loss: 0.3971 - accuracy: 0.87 - ETA: 1s - loss: 0.3959 - accuracy: 0.87 - ETA: 1s - loss: 0.3952 - accuracy: 0.87 - ETA: 1s - loss: 0.3952 - accuracy: 0.87 - ETA: 0s - loss: 0.3937 - accuracy: 0.87 - ETA: 0s - loss: 0.3932 - accuracy: 0.87 - ETA: 0s - loss: 0.3929 - accuracy: 0.87 - ETA: 0s - loss: 0.3926 - accuracy: 0.87 - ETA: 0s - loss: 0.3919 - accuracy: 0.87 - ETA: 0s - loss: 0.3908 - accuracy: 0.87 - ETA: 0s - loss: 0.3902 - accuracy: 0.87 - ETA: 0s - loss: 0.3900 - accuracy: 0.87 - ETA: 0s - loss: 0.3893 - accuracy: 0.87 - ETA: 0s - loss: 0.3893 - accuracy: 0.87 - ETA: 0s - loss: 0.3892 - accuracy: 0.87 - ETA: 0s - loss: 0.3884 - accuracy: 0.87 - ETA: 0s - loss: 0.3885 - accuracy: 0.87 - ETA: 0s - loss: 0.3877 - accuracy: 0.87 - ETA: 0s - loss: 0.3879 - accuracy: 0.87 - ETA: 0s - loss: 0.3869 - accuracy: 0.87 - ETA: 0s - loss: 0.3864 - accuracy: 0.87 - ETA: 0s - loss: 0.3854 - accuracy: 0.87 - ETA: 0s - loss: 0.3846 - accuracy: 0.87 - ETA: 0s - loss: 0.3839 - accuracy: 0.87 - 8s 243us/step - loss: 0.3840 - accuracy: 0.8780 - val_loss: 0.1338 - val_accuracy: 0.9589\n",
      "Epoch 4/15\n"
     ]
    },
    {
     "name": "stdout",
     "output_type": "stream",
     "text": [
      "31367/31367 [==============================] - ETA: 9s - loss: 0.1809 - accuracy: 0.93 - ETA: 7s - loss: 0.2866 - accuracy: 0.91 - ETA: 7s - loss: 0.2898 - accuracy: 0.90 - ETA: 7s - loss: 0.3197 - accuracy: 0.90 - ETA: 7s - loss: 0.3188 - accuracy: 0.90 - ETA: 7s - loss: 0.3276 - accuracy: 0.90 - ETA: 7s - loss: 0.3036 - accuracy: 0.90 - ETA: 7s - loss: 0.3130 - accuracy: 0.90 - ETA: 7s - loss: 0.3157 - accuracy: 0.90 - ETA: 7s - loss: 0.3130 - accuracy: 0.90 - ETA: 7s - loss: 0.3075 - accuracy: 0.90 - ETA: 6s - loss: 0.3095 - accuracy: 0.90 - ETA: 6s - loss: 0.3096 - accuracy: 0.90 - ETA: 6s - loss: 0.3109 - accuracy: 0.90 - ETA: 6s - loss: 0.3101 - accuracy: 0.90 - ETA: 6s - loss: 0.3020 - accuracy: 0.90 - ETA: 6s - loss: 0.3013 - accuracy: 0.90 - ETA: 6s - loss: 0.2956 - accuracy: 0.91 - ETA: 6s - loss: 0.2962 - accuracy: 0.91 - ETA: 6s - loss: 0.2955 - accuracy: 0.90 - ETA: 6s - loss: 0.2947 - accuracy: 0.90 - ETA: 6s - loss: 0.2944 - accuracy: 0.90 - ETA: 6s - loss: 0.2928 - accuracy: 0.90 - ETA: 6s - loss: 0.2920 - accuracy: 0.90 - ETA: 6s - loss: 0.2923 - accuracy: 0.90 - ETA: 6s - loss: 0.2916 - accuracy: 0.90 - ETA: 6s - loss: 0.2936 - accuracy: 0.90 - ETA: 6s - loss: 0.2922 - accuracy: 0.90 - ETA: 6s - loss: 0.2963 - accuracy: 0.90 - ETA: 5s - loss: 0.2990 - accuracy: 0.90 - ETA: 5s - loss: 0.2985 - accuracy: 0.90 - ETA: 5s - loss: 0.2970 - accuracy: 0.90 - ETA: 5s - loss: 0.2965 - accuracy: 0.90 - ETA: 5s - loss: 0.2965 - accuracy: 0.90 - ETA: 5s - loss: 0.2957 - accuracy: 0.90 - ETA: 5s - loss: 0.2973 - accuracy: 0.90 - ETA: 5s - loss: 0.2968 - accuracy: 0.90 - ETA: 5s - loss: 0.2935 - accuracy: 0.90 - ETA: 5s - loss: 0.2922 - accuracy: 0.90 - ETA: 5s - loss: 0.2901 - accuracy: 0.90 - ETA: 5s - loss: 0.2907 - accuracy: 0.90 - ETA: 5s - loss: 0.2913 - accuracy: 0.90 - ETA: 5s - loss: 0.2904 - accuracy: 0.90 - ETA: 5s - loss: 0.2904 - accuracy: 0.90 - ETA: 5s - loss: 0.2883 - accuracy: 0.90 - ETA: 5s - loss: 0.2872 - accuracy: 0.91 - ETA: 4s - loss: 0.2865 - accuracy: 0.91 - ETA: 4s - loss: 0.2855 - accuracy: 0.91 - ETA: 4s - loss: 0.2870 - accuracy: 0.91 - ETA: 4s - loss: 0.2863 - accuracy: 0.91 - ETA: 4s - loss: 0.2855 - accuracy: 0.91 - ETA: 4s - loss: 0.2880 - accuracy: 0.91 - ETA: 4s - loss: 0.2873 - accuracy: 0.91 - ETA: 4s - loss: 0.2892 - accuracy: 0.91 - ETA: 4s - loss: 0.2883 - accuracy: 0.91 - ETA: 4s - loss: 0.2881 - accuracy: 0.91 - ETA: 4s - loss: 0.2894 - accuracy: 0.91 - ETA: 4s - loss: 0.2910 - accuracy: 0.90 - ETA: 4s - loss: 0.2928 - accuracy: 0.90 - ETA: 4s - loss: 0.2941 - accuracy: 0.90 - ETA: 4s - loss: 0.2943 - accuracy: 0.90 - ETA: 4s - loss: 0.2945 - accuracy: 0.90 - ETA: 4s - loss: 0.2943 - accuracy: 0.90 - ETA: 4s - loss: 0.2941 - accuracy: 0.90 - ETA: 3s - loss: 0.2948 - accuracy: 0.90 - ETA: 3s - loss: 0.2951 - accuracy: 0.90 - ETA: 3s - loss: 0.2953 - accuracy: 0.90 - ETA: 3s - loss: 0.2959 - accuracy: 0.90 - ETA: 3s - loss: 0.2956 - accuracy: 0.90 - ETA: 3s - loss: 0.2954 - accuracy: 0.90 - ETA: 3s - loss: 0.2965 - accuracy: 0.90 - ETA: 3s - loss: 0.2977 - accuracy: 0.90 - ETA: 3s - loss: 0.2965 - accuracy: 0.90 - ETA: 3s - loss: 0.2961 - accuracy: 0.90 - ETA: 3s - loss: 0.2961 - accuracy: 0.90 - ETA: 3s - loss: 0.2958 - accuracy: 0.90 - ETA: 3s - loss: 0.2973 - accuracy: 0.90 - ETA: 3s - loss: 0.2985 - accuracy: 0.90 - ETA: 3s - loss: 0.2988 - accuracy: 0.90 - ETA: 3s - loss: 0.2999 - accuracy: 0.90 - ETA: 3s - loss: 0.3001 - accuracy: 0.90 - ETA: 3s - loss: 0.2987 - accuracy: 0.90 - ETA: 2s - loss: 0.2977 - accuracy: 0.90 - ETA: 2s - loss: 0.2975 - accuracy: 0.90 - ETA: 2s - loss: 0.2979 - accuracy: 0.90 - ETA: 2s - loss: 0.2972 - accuracy: 0.90 - ETA: 2s - loss: 0.2966 - accuracy: 0.90 - ETA: 2s - loss: 0.2959 - accuracy: 0.90 - ETA: 2s - loss: 0.2956 - accuracy: 0.90 - ETA: 2s - loss: 0.2945 - accuracy: 0.91 - ETA: 2s - loss: 0.2941 - accuracy: 0.91 - ETA: 2s - loss: 0.2938 - accuracy: 0.91 - ETA: 2s - loss: 0.2939 - accuracy: 0.91 - ETA: 2s - loss: 0.2930 - accuracy: 0.91 - ETA: 2s - loss: 0.2926 - accuracy: 0.91 - ETA: 2s - loss: 0.2918 - accuracy: 0.91 - ETA: 2s - loss: 0.2932 - accuracy: 0.91 - ETA: 2s - loss: 0.2935 - accuracy: 0.91 - ETA: 2s - loss: 0.2941 - accuracy: 0.91 - ETA: 2s - loss: 0.2936 - accuracy: 0.91 - ETA: 2s - loss: 0.2939 - accuracy: 0.91 - ETA: 1s - loss: 0.2933 - accuracy: 0.91 - ETA: 1s - loss: 0.2934 - accuracy: 0.91 - ETA: 1s - loss: 0.2947 - accuracy: 0.90 - ETA: 1s - loss: 0.2951 - accuracy: 0.90 - ETA: 1s - loss: 0.2956 - accuracy: 0.90 - ETA: 1s - loss: 0.2948 - accuracy: 0.90 - ETA: 1s - loss: 0.2943 - accuracy: 0.90 - ETA: 1s - loss: 0.2945 - accuracy: 0.90 - ETA: 1s - loss: 0.2933 - accuracy: 0.91 - ETA: 1s - loss: 0.2927 - accuracy: 0.91 - ETA: 1s - loss: 0.2929 - accuracy: 0.91 - ETA: 1s - loss: 0.2926 - accuracy: 0.91 - ETA: 1s - loss: 0.2919 - accuracy: 0.91 - ETA: 1s - loss: 0.2917 - accuracy: 0.91 - ETA: 1s - loss: 0.2908 - accuracy: 0.91 - ETA: 1s - loss: 0.2900 - accuracy: 0.91 - ETA: 1s - loss: 0.2901 - accuracy: 0.91 - ETA: 1s - loss: 0.2902 - accuracy: 0.91 - ETA: 0s - loss: 0.2902 - accuracy: 0.91 - ETA: 0s - loss: 0.2895 - accuracy: 0.91 - ETA: 0s - loss: 0.2901 - accuracy: 0.91 - ETA: 0s - loss: 0.2892 - accuracy: 0.91 - ETA: 0s - loss: 0.2889 - accuracy: 0.91 - ETA: 0s - loss: 0.2888 - accuracy: 0.91 - ETA: 0s - loss: 0.2890 - accuracy: 0.91 - ETA: 0s - loss: 0.2889 - accuracy: 0.91 - ETA: 0s - loss: 0.2893 - accuracy: 0.91 - ETA: 0s - loss: 0.2889 - accuracy: 0.91 - ETA: 0s - loss: 0.2886 - accuracy: 0.91 - ETA: 0s - loss: 0.2883 - accuracy: 0.91 - ETA: 0s - loss: 0.2882 - accuracy: 0.91 - ETA: 0s - loss: 0.2884 - accuracy: 0.91 - ETA: 0s - loss: 0.2879 - accuracy: 0.91 - ETA: 0s - loss: 0.2872 - accuracy: 0.91 - ETA: 0s - loss: 0.2872 - accuracy: 0.91 - ETA: 0s - loss: 0.2874 - accuracy: 0.91 - ETA: 0s - loss: 0.2870 - accuracy: 0.91 - 8s 264us/step - loss: 0.2870 - accuracy: 0.9111 - val_loss: 0.1219 - val_accuracy: 0.9620\n",
      "Epoch 5/15\n"
     ]
    },
    {
     "name": "stdout",
     "output_type": "stream",
     "text": [
      "31367/31367 [==============================] - ETA: 9s - loss: 0.5817 - accuracy: 0.83 - ETA: 7s - loss: 0.3909 - accuracy: 0.86 - ETA: 7s - loss: 0.3390 - accuracy: 0.88 - ETA: 6s - loss: 0.3017 - accuracy: 0.90 - ETA: 7s - loss: 0.2887 - accuracy: 0.90 - ETA: 6s - loss: 0.2816 - accuracy: 0.90 - ETA: 6s - loss: 0.2724 - accuracy: 0.91 - ETA: 6s - loss: 0.2655 - accuracy: 0.91 - ETA: 6s - loss: 0.2639 - accuracy: 0.91 - ETA: 6s - loss: 0.2682 - accuracy: 0.91 - ETA: 6s - loss: 0.2648 - accuracy: 0.91 - ETA: 6s - loss: 0.2568 - accuracy: 0.91 - ETA: 6s - loss: 0.2583 - accuracy: 0.91 - ETA: 6s - loss: 0.2546 - accuracy: 0.91 - ETA: 6s - loss: 0.2567 - accuracy: 0.91 - ETA: 6s - loss: 0.2568 - accuracy: 0.91 - ETA: 6s - loss: 0.2561 - accuracy: 0.91 - ETA: 6s - loss: 0.2548 - accuracy: 0.91 - ETA: 6s - loss: 0.2580 - accuracy: 0.91 - ETA: 6s - loss: 0.2579 - accuracy: 0.91 - ETA: 6s - loss: 0.2595 - accuracy: 0.91 - ETA: 6s - loss: 0.2603 - accuracy: 0.91 - ETA: 5s - loss: 0.2541 - accuracy: 0.91 - ETA: 5s - loss: 0.2534 - accuracy: 0.91 - ETA: 5s - loss: 0.2552 - accuracy: 0.91 - ETA: 5s - loss: 0.2543 - accuracy: 0.91 - ETA: 5s - loss: 0.2524 - accuracy: 0.91 - ETA: 5s - loss: 0.2520 - accuracy: 0.91 - ETA: 5s - loss: 0.2523 - accuracy: 0.91 - ETA: 5s - loss: 0.2553 - accuracy: 0.91 - ETA: 5s - loss: 0.2577 - accuracy: 0.91 - ETA: 5s - loss: 0.2570 - accuracy: 0.91 - ETA: 5s - loss: 0.2554 - accuracy: 0.91 - ETA: 5s - loss: 0.2551 - accuracy: 0.91 - ETA: 5s - loss: 0.2556 - accuracy: 0.91 - ETA: 5s - loss: 0.2532 - accuracy: 0.91 - ETA: 4s - loss: 0.2534 - accuracy: 0.91 - ETA: 4s - loss: 0.2515 - accuracy: 0.91 - ETA: 4s - loss: 0.2514 - accuracy: 0.91 - ETA: 4s - loss: 0.2512 - accuracy: 0.91 - ETA: 4s - loss: 0.2515 - accuracy: 0.91 - ETA: 4s - loss: 0.2500 - accuracy: 0.92 - ETA: 4s - loss: 0.2500 - accuracy: 0.92 - ETA: 4s - loss: 0.2507 - accuracy: 0.92 - ETA: 4s - loss: 0.2542 - accuracy: 0.91 - ETA: 4s - loss: 0.2538 - accuracy: 0.92 - ETA: 4s - loss: 0.2522 - accuracy: 0.92 - ETA: 4s - loss: 0.2517 - accuracy: 0.92 - ETA: 4s - loss: 0.2512 - accuracy: 0.92 - ETA: 4s - loss: 0.2519 - accuracy: 0.92 - ETA: 4s - loss: 0.2531 - accuracy: 0.92 - ETA: 3s - loss: 0.2516 - accuracy: 0.92 - ETA: 3s - loss: 0.2516 - accuracy: 0.92 - ETA: 3s - loss: 0.2510 - accuracy: 0.92 - ETA: 3s - loss: 0.2516 - accuracy: 0.92 - ETA: 3s - loss: 0.2519 - accuracy: 0.92 - ETA: 3s - loss: 0.2510 - accuracy: 0.92 - ETA: 3s - loss: 0.2495 - accuracy: 0.92 - ETA: 3s - loss: 0.2497 - accuracy: 0.92 - ETA: 3s - loss: 0.2491 - accuracy: 0.92 - ETA: 3s - loss: 0.2483 - accuracy: 0.92 - ETA: 3s - loss: 0.2467 - accuracy: 0.92 - ETA: 3s - loss: 0.2460 - accuracy: 0.92 - ETA: 3s - loss: 0.2462 - accuracy: 0.92 - ETA: 3s - loss: 0.2468 - accuracy: 0.92 - ETA: 3s - loss: 0.2459 - accuracy: 0.92 - ETA: 3s - loss: 0.2450 - accuracy: 0.92 - ETA: 3s - loss: 0.2450 - accuracy: 0.92 - ETA: 2s - loss: 0.2444 - accuracy: 0.92 - ETA: 2s - loss: 0.2436 - accuracy: 0.92 - ETA: 2s - loss: 0.2420 - accuracy: 0.92 - ETA: 2s - loss: 0.2416 - accuracy: 0.92 - ETA: 2s - loss: 0.2405 - accuracy: 0.92 - ETA: 2s - loss: 0.2397 - accuracy: 0.92 - ETA: 2s - loss: 0.2396 - accuracy: 0.92 - ETA: 2s - loss: 0.2399 - accuracy: 0.92 - ETA: 2s - loss: 0.2400 - accuracy: 0.92 - ETA: 2s - loss: 0.2402 - accuracy: 0.92 - ETA: 2s - loss: 0.2404 - accuracy: 0.92 - ETA: 2s - loss: 0.2403 - accuracy: 0.92 - ETA: 2s - loss: 0.2407 - accuracy: 0.92 - ETA: 2s - loss: 0.2406 - accuracy: 0.92 - ETA: 2s - loss: 0.2413 - accuracy: 0.92 - ETA: 2s - loss: 0.2414 - accuracy: 0.92 - ETA: 2s - loss: 0.2422 - accuracy: 0.92 - ETA: 1s - loss: 0.2421 - accuracy: 0.92 - ETA: 1s - loss: 0.2425 - accuracy: 0.92 - ETA: 1s - loss: 0.2419 - accuracy: 0.92 - ETA: 1s - loss: 0.2410 - accuracy: 0.92 - ETA: 1s - loss: 0.2403 - accuracy: 0.92 - ETA: 1s - loss: 0.2410 - accuracy: 0.92 - ETA: 1s - loss: 0.2414 - accuracy: 0.92 - ETA: 1s - loss: 0.2410 - accuracy: 0.92 - ETA: 1s - loss: 0.2417 - accuracy: 0.92 - ETA: 1s - loss: 0.2413 - accuracy: 0.92 - ETA: 1s - loss: 0.2410 - accuracy: 0.92 - ETA: 1s - loss: 0.2406 - accuracy: 0.92 - ETA: 1s - loss: 0.2414 - accuracy: 0.92 - ETA: 1s - loss: 0.2419 - accuracy: 0.92 - ETA: 1s - loss: 0.2413 - accuracy: 0.92 - ETA: 1s - loss: 0.2412 - accuracy: 0.92 - ETA: 1s - loss: 0.2407 - accuracy: 0.92 - ETA: 1s - loss: 0.2413 - accuracy: 0.92 - ETA: 0s - loss: 0.2409 - accuracy: 0.92 - ETA: 0s - loss: 0.2412 - accuracy: 0.92 - ETA: 0s - loss: 0.2411 - accuracy: 0.92 - ETA: 0s - loss: 0.2404 - accuracy: 0.92 - ETA: 0s - loss: 0.2400 - accuracy: 0.92 - ETA: 0s - loss: 0.2401 - accuracy: 0.92 - ETA: 0s - loss: 0.2395 - accuracy: 0.92 - ETA: 0s - loss: 0.2389 - accuracy: 0.92 - ETA: 0s - loss: 0.2386 - accuracy: 0.92 - ETA: 0s - loss: 0.2377 - accuracy: 0.92 - ETA: 0s - loss: 0.2373 - accuracy: 0.92 - ETA: 0s - loss: 0.2371 - accuracy: 0.92 - ETA: 0s - loss: 0.2372 - accuracy: 0.92 - ETA: 0s - loss: 0.2373 - accuracy: 0.92 - ETA: 0s - loss: 0.2368 - accuracy: 0.92 - ETA: 0s - loss: 0.2361 - accuracy: 0.92 - ETA: 0s - loss: 0.2356 - accuracy: 0.92 - ETA: 0s - loss: 0.2351 - accuracy: 0.92 - ETA: 0s - loss: 0.2355 - accuracy: 0.92 - ETA: 0s - loss: 0.2350 - accuracy: 0.92 - 7s 235us/step - loss: 0.2349 - accuracy: 0.9272 - val_loss: 0.0752 - val_accuracy: 0.9799\n",
      "Epoch 6/15\n"
     ]
    },
    {
     "name": "stdout",
     "output_type": "stream",
     "text": [
      "31367/31367 [==============================] - ETA: 11s - loss: 0.0984 - accuracy: 1.000 - ETA: 7s - loss: 0.2211 - accuracy: 0.937 - ETA: 7s - loss: 0.2063 - accuracy: 0.94 - ETA: 7s - loss: 0.2196 - accuracy: 0.93 - ETA: 7s - loss: 0.2170 - accuracy: 0.93 - ETA: 6s - loss: 0.2149 - accuracy: 0.93 - ETA: 6s - loss: 0.2084 - accuracy: 0.93 - ETA: 6s - loss: 0.1980 - accuracy: 0.93 - ETA: 6s - loss: 0.2094 - accuracy: 0.93 - ETA: 6s - loss: 0.2100 - accuracy: 0.93 - ETA: 6s - loss: 0.2145 - accuracy: 0.93 - ETA: 6s - loss: 0.2116 - accuracy: 0.93 - ETA: 6s - loss: 0.2062 - accuracy: 0.93 - ETA: 6s - loss: 0.2081 - accuracy: 0.93 - ETA: 6s - loss: 0.2173 - accuracy: 0.93 - ETA: 6s - loss: 0.2247 - accuracy: 0.93 - ETA: 6s - loss: 0.2220 - accuracy: 0.93 - ETA: 5s - loss: 0.2222 - accuracy: 0.93 - ETA: 5s - loss: 0.2178 - accuracy: 0.93 - ETA: 5s - loss: 0.2191 - accuracy: 0.93 - ETA: 5s - loss: 0.2176 - accuracy: 0.93 - ETA: 5s - loss: 0.2168 - accuracy: 0.93 - ETA: 5s - loss: 0.2136 - accuracy: 0.93 - ETA: 5s - loss: 0.2118 - accuracy: 0.93 - ETA: 5s - loss: 0.2113 - accuracy: 0.93 - ETA: 5s - loss: 0.2121 - accuracy: 0.93 - ETA: 5s - loss: 0.2131 - accuracy: 0.93 - ETA: 5s - loss: 0.2132 - accuracy: 0.93 - ETA: 5s - loss: 0.2131 - accuracy: 0.93 - ETA: 5s - loss: 0.2116 - accuracy: 0.93 - ETA: 5s - loss: 0.2128 - accuracy: 0.93 - ETA: 4s - loss: 0.2135 - accuracy: 0.93 - ETA: 4s - loss: 0.2135 - accuracy: 0.93 - ETA: 4s - loss: 0.2132 - accuracy: 0.93 - ETA: 4s - loss: 0.2139 - accuracy: 0.93 - ETA: 4s - loss: 0.2137 - accuracy: 0.93 - ETA: 4s - loss: 0.2148 - accuracy: 0.93 - ETA: 4s - loss: 0.2158 - accuracy: 0.93 - ETA: 4s - loss: 0.2162 - accuracy: 0.93 - ETA: 4s - loss: 0.2168 - accuracy: 0.93 - ETA: 4s - loss: 0.2158 - accuracy: 0.93 - ETA: 4s - loss: 0.2164 - accuracy: 0.93 - ETA: 4s - loss: 0.2176 - accuracy: 0.93 - ETA: 4s - loss: 0.2170 - accuracy: 0.93 - ETA: 4s - loss: 0.2174 - accuracy: 0.93 - ETA: 4s - loss: 0.2166 - accuracy: 0.93 - ETA: 4s - loss: 0.2172 - accuracy: 0.93 - ETA: 3s - loss: 0.2164 - accuracy: 0.93 - ETA: 3s - loss: 0.2143 - accuracy: 0.93 - ETA: 3s - loss: 0.2162 - accuracy: 0.93 - ETA: 3s - loss: 0.2153 - accuracy: 0.93 - ETA: 3s - loss: 0.2138 - accuracy: 0.93 - ETA: 3s - loss: 0.2131 - accuracy: 0.93 - ETA: 3s - loss: 0.2127 - accuracy: 0.93 - ETA: 3s - loss: 0.2119 - accuracy: 0.93 - ETA: 3s - loss: 0.2104 - accuracy: 0.93 - ETA: 3s - loss: 0.2097 - accuracy: 0.93 - ETA: 3s - loss: 0.2099 - accuracy: 0.93 - ETA: 3s - loss: 0.2095 - accuracy: 0.93 - ETA: 3s - loss: 0.2087 - accuracy: 0.93 - ETA: 3s - loss: 0.2085 - accuracy: 0.93 - ETA: 3s - loss: 0.2076 - accuracy: 0.93 - ETA: 3s - loss: 0.2075 - accuracy: 0.93 - ETA: 3s - loss: 0.2060 - accuracy: 0.93 - ETA: 3s - loss: 0.2056 - accuracy: 0.93 - ETA: 2s - loss: 0.2045 - accuracy: 0.93 - ETA: 2s - loss: 0.2039 - accuracy: 0.93 - ETA: 2s - loss: 0.2051 - accuracy: 0.93 - ETA: 2s - loss: 0.2049 - accuracy: 0.93 - ETA: 2s - loss: 0.2054 - accuracy: 0.93 - ETA: 2s - loss: 0.2052 - accuracy: 0.93 - ETA: 2s - loss: 0.2056 - accuracy: 0.93 - ETA: 2s - loss: 0.2059 - accuracy: 0.93 - ETA: 2s - loss: 0.2067 - accuracy: 0.93 - ETA: 2s - loss: 0.2060 - accuracy: 0.93 - ETA: 2s - loss: 0.2057 - accuracy: 0.93 - ETA: 2s - loss: 0.2071 - accuracy: 0.93 - ETA: 2s - loss: 0.2062 - accuracy: 0.93 - ETA: 2s - loss: 0.2063 - accuracy: 0.93 - ETA: 2s - loss: 0.2063 - accuracy: 0.93 - ETA: 2s - loss: 0.2069 - accuracy: 0.93 - ETA: 2s - loss: 0.2062 - accuracy: 0.93 - ETA: 2s - loss: 0.2056 - accuracy: 0.93 - ETA: 1s - loss: 0.2051 - accuracy: 0.93 - ETA: 1s - loss: 0.2049 - accuracy: 0.93 - ETA: 1s - loss: 0.2052 - accuracy: 0.93 - ETA: 1s - loss: 0.2060 - accuracy: 0.93 - ETA: 1s - loss: 0.2056 - accuracy: 0.93 - ETA: 1s - loss: 0.2058 - accuracy: 0.93 - ETA: 1s - loss: 0.2053 - accuracy: 0.93 - ETA: 1s - loss: 0.2057 - accuracy: 0.93 - ETA: 1s - loss: 0.2047 - accuracy: 0.93 - ETA: 1s - loss: 0.2045 - accuracy: 0.93 - ETA: 1s - loss: 0.2050 - accuracy: 0.93 - ETA: 1s - loss: 0.2041 - accuracy: 0.93 - ETA: 1s - loss: 0.2033 - accuracy: 0.93 - ETA: 1s - loss: 0.2033 - accuracy: 0.93 - ETA: 1s - loss: 0.2030 - accuracy: 0.93 - ETA: 1s - loss: 0.2031 - accuracy: 0.93 - ETA: 1s - loss: 0.2031 - accuracy: 0.93 - ETA: 1s - loss: 0.2034 - accuracy: 0.93 - ETA: 1s - loss: 0.2030 - accuracy: 0.93 - ETA: 0s - loss: 0.2033 - accuracy: 0.93 - ETA: 0s - loss: 0.2030 - accuracy: 0.93 - ETA: 0s - loss: 0.2023 - accuracy: 0.93 - ETA: 0s - loss: 0.2022 - accuracy: 0.93 - ETA: 0s - loss: 0.2015 - accuracy: 0.93 - ETA: 0s - loss: 0.2021 - accuracy: 0.93 - ETA: 0s - loss: 0.2024 - accuracy: 0.93 - ETA: 0s - loss: 0.2024 - accuracy: 0.93 - ETA: 0s - loss: 0.2026 - accuracy: 0.93 - ETA: 0s - loss: 0.2027 - accuracy: 0.93 - ETA: 0s - loss: 0.2021 - accuracy: 0.93 - ETA: 0s - loss: 0.2024 - accuracy: 0.93 - ETA: 0s - loss: 0.2020 - accuracy: 0.93 - ETA: 0s - loss: 0.2024 - accuracy: 0.93 - ETA: 0s - loss: 0.2029 - accuracy: 0.93 - ETA: 0s - loss: 0.2027 - accuracy: 0.93 - ETA: 0s - loss: 0.2026 - accuracy: 0.93 - ETA: 0s - loss: 0.2030 - accuracy: 0.93 - ETA: 0s - loss: 0.2038 - accuracy: 0.93 - 7s 228us/step - loss: 0.2035 - accuracy: 0.9371 - val_loss: 0.0793 - val_accuracy: 0.9769\n",
      "Epoch 7/15\n"
     ]
    },
    {
     "name": "stdout",
     "output_type": "stream",
     "text": [
      "31367/31367 [==============================] - ETA: 10s - loss: 0.5369 - accuracy: 0.866 - ETA: 6s - loss: 0.2568 - accuracy: 0.923 - ETA: 6s - loss: 0.2420 - accuracy: 0.93 - ETA: 6s - loss: 0.2234 - accuracy: 0.93 - ETA: 6s - loss: 0.2046 - accuracy: 0.93 - ETA: 6s - loss: 0.1958 - accuracy: 0.94 - ETA: 6s - loss: 0.1977 - accuracy: 0.94 - ETA: 6s - loss: 0.1898 - accuracy: 0.94 - ETA: 6s - loss: 0.1879 - accuracy: 0.94 - ETA: 6s - loss: 0.1927 - accuracy: 0.94 - ETA: 6s - loss: 0.1875 - accuracy: 0.94 - ETA: 5s - loss: 0.1937 - accuracy: 0.94 - ETA: 5s - loss: 0.1920 - accuracy: 0.94 - ETA: 5s - loss: 0.1872 - accuracy: 0.94 - ETA: 5s - loss: 0.1825 - accuracy: 0.94 - ETA: 5s - loss: 0.1880 - accuracy: 0.94 - ETA: 5s - loss: 0.1897 - accuracy: 0.94 - ETA: 5s - loss: 0.1946 - accuracy: 0.94 - ETA: 5s - loss: 0.1976 - accuracy: 0.94 - ETA: 5s - loss: 0.2018 - accuracy: 0.93 - ETA: 5s - loss: 0.2044 - accuracy: 0.93 - ETA: 5s - loss: 0.2009 - accuracy: 0.93 - ETA: 5s - loss: 0.1995 - accuracy: 0.94 - ETA: 5s - loss: 0.1947 - accuracy: 0.94 - ETA: 5s - loss: 0.1924 - accuracy: 0.94 - ETA: 5s - loss: 0.1954 - accuracy: 0.94 - ETA: 5s - loss: 0.1954 - accuracy: 0.93 - ETA: 5s - loss: 0.1957 - accuracy: 0.93 - ETA: 5s - loss: 0.1943 - accuracy: 0.94 - ETA: 4s - loss: 0.1923 - accuracy: 0.94 - ETA: 4s - loss: 0.1913 - accuracy: 0.94 - ETA: 4s - loss: 0.1897 - accuracy: 0.94 - ETA: 4s - loss: 0.1912 - accuracy: 0.94 - ETA: 4s - loss: 0.1939 - accuracy: 0.94 - ETA: 4s - loss: 0.1937 - accuracy: 0.94 - ETA: 4s - loss: 0.1934 - accuracy: 0.94 - ETA: 4s - loss: 0.1942 - accuracy: 0.94 - ETA: 4s - loss: 0.1951 - accuracy: 0.94 - ETA: 4s - loss: 0.1960 - accuracy: 0.93 - ETA: 4s - loss: 0.1931 - accuracy: 0.94 - ETA: 4s - loss: 0.1917 - accuracy: 0.94 - ETA: 4s - loss: 0.1911 - accuracy: 0.94 - ETA: 4s - loss: 0.1917 - accuracy: 0.94 - ETA: 4s - loss: 0.1926 - accuracy: 0.94 - ETA: 4s - loss: 0.1904 - accuracy: 0.94 - ETA: 4s - loss: 0.1902 - accuracy: 0.94 - ETA: 4s - loss: 0.1911 - accuracy: 0.94 - ETA: 4s - loss: 0.1913 - accuracy: 0.94 - ETA: 3s - loss: 0.1912 - accuracy: 0.94 - ETA: 3s - loss: 0.1902 - accuracy: 0.94 - ETA: 3s - loss: 0.1901 - accuracy: 0.94 - ETA: 3s - loss: 0.1911 - accuracy: 0.94 - ETA: 3s - loss: 0.1905 - accuracy: 0.94 - ETA: 3s - loss: 0.1919 - accuracy: 0.94 - ETA: 3s - loss: 0.1911 - accuracy: 0.94 - ETA: 3s - loss: 0.1928 - accuracy: 0.94 - ETA: 3s - loss: 0.1913 - accuracy: 0.94 - ETA: 3s - loss: 0.1908 - accuracy: 0.94 - ETA: 3s - loss: 0.1907 - accuracy: 0.94 - ETA: 3s - loss: 0.1908 - accuracy: 0.94 - ETA: 3s - loss: 0.1901 - accuracy: 0.94 - ETA: 3s - loss: 0.1891 - accuracy: 0.94 - ETA: 3s - loss: 0.1892 - accuracy: 0.94 - ETA: 3s - loss: 0.1913 - accuracy: 0.94 - ETA: 3s - loss: 0.1916 - accuracy: 0.94 - ETA: 3s - loss: 0.1937 - accuracy: 0.94 - ETA: 2s - loss: 0.1934 - accuracy: 0.94 - ETA: 2s - loss: 0.1944 - accuracy: 0.94 - ETA: 2s - loss: 0.1945 - accuracy: 0.94 - ETA: 2s - loss: 0.1945 - accuracy: 0.94 - ETA: 2s - loss: 0.1940 - accuracy: 0.94 - ETA: 2s - loss: 0.1930 - accuracy: 0.94 - ETA: 2s - loss: 0.1921 - accuracy: 0.94 - ETA: 2s - loss: 0.1923 - accuracy: 0.94 - ETA: 2s - loss: 0.1913 - accuracy: 0.94 - ETA: 2s - loss: 0.1918 - accuracy: 0.94 - ETA: 2s - loss: 0.1921 - accuracy: 0.94 - ETA: 2s - loss: 0.1921 - accuracy: 0.94 - ETA: 2s - loss: 0.1929 - accuracy: 0.94 - ETA: 2s - loss: 0.1942 - accuracy: 0.94 - ETA: 2s - loss: 0.1943 - accuracy: 0.94 - ETA: 2s - loss: 0.1949 - accuracy: 0.94 - ETA: 2s - loss: 0.1942 - accuracy: 0.94 - ETA: 2s - loss: 0.1947 - accuracy: 0.94 - ETA: 1s - loss: 0.1945 - accuracy: 0.94 - ETA: 1s - loss: 0.1938 - accuracy: 0.94 - ETA: 1s - loss: 0.1932 - accuracy: 0.94 - ETA: 1s - loss: 0.1926 - accuracy: 0.94 - ETA: 1s - loss: 0.1925 - accuracy: 0.94 - ETA: 1s - loss: 0.1920 - accuracy: 0.94 - ETA: 1s - loss: 0.1920 - accuracy: 0.94 - ETA: 1s - loss: 0.1920 - accuracy: 0.94 - ETA: 1s - loss: 0.1920 - accuracy: 0.94 - ETA: 1s - loss: 0.1922 - accuracy: 0.94 - ETA: 1s - loss: 0.1921 - accuracy: 0.94 - ETA: 1s - loss: 0.1923 - accuracy: 0.94 - ETA: 1s - loss: 0.1921 - accuracy: 0.94 - ETA: 1s - loss: 0.1914 - accuracy: 0.94 - ETA: 1s - loss: 0.1911 - accuracy: 0.94 - ETA: 1s - loss: 0.1915 - accuracy: 0.94 - ETA: 1s - loss: 0.1913 - accuracy: 0.94 - ETA: 1s - loss: 0.1905 - accuracy: 0.94 - ETA: 1s - loss: 0.1902 - accuracy: 0.94 - ETA: 1s - loss: 0.1895 - accuracy: 0.94 - ETA: 1s - loss: 0.1899 - accuracy: 0.94 - ETA: 0s - loss: 0.1897 - accuracy: 0.94 - ETA: 0s - loss: 0.1890 - accuracy: 0.94 - ETA: 0s - loss: 0.1887 - accuracy: 0.94 - ETA: 0s - loss: 0.1888 - accuracy: 0.94 - ETA: 0s - loss: 0.1888 - accuracy: 0.94 - ETA: 0s - loss: 0.1884 - accuracy: 0.94 - ETA: 0s - loss: 0.1882 - accuracy: 0.94 - ETA: 0s - loss: 0.1875 - accuracy: 0.94 - ETA: 0s - loss: 0.1879 - accuracy: 0.94 - ETA: 0s - loss: 0.1877 - accuracy: 0.94 - ETA: 0s - loss: 0.1869 - accuracy: 0.94 - ETA: 0s - loss: 0.1864 - accuracy: 0.94 - ETA: 0s - loss: 0.1863 - accuracy: 0.94 - ETA: 0s - loss: 0.1856 - accuracy: 0.94 - ETA: 0s - loss: 0.1854 - accuracy: 0.94 - ETA: 0s - loss: 0.1851 - accuracy: 0.94 - ETA: 0s - loss: 0.1849 - accuracy: 0.94 - ETA: 0s - loss: 0.1851 - accuracy: 0.94 - ETA: 0s - loss: 0.1846 - accuracy: 0.94 - ETA: 0s - loss: 0.1845 - accuracy: 0.94 - ETA: 0s - loss: 0.1844 - accuracy: 0.94 - ETA: 0s - loss: 0.1838 - accuracy: 0.94 - 8s 240us/step - loss: 0.1839 - accuracy: 0.9440 - val_loss: 0.0635 - val_accuracy: 0.9827\n",
      "Epoch 8/15\n"
     ]
    },
    {
     "name": "stdout",
     "output_type": "stream",
     "text": [
      "31367/31367 [==============================] - ETA: 9s - loss: 0.1735 - accuracy: 0.96 - ETA: 7s - loss: 0.2190 - accuracy: 0.94 - ETA: 7s - loss: 0.1915 - accuracy: 0.95 - ETA: 7s - loss: 0.1826 - accuracy: 0.95 - ETA: 7s - loss: 0.1666 - accuracy: 0.95 - ETA: 6s - loss: 0.1642 - accuracy: 0.95 - ETA: 6s - loss: 0.1631 - accuracy: 0.95 - ETA: 6s - loss: 0.1633 - accuracy: 0.94 - ETA: 6s - loss: 0.1630 - accuracy: 0.94 - ETA: 6s - loss: 0.1626 - accuracy: 0.94 - ETA: 6s - loss: 0.1656 - accuracy: 0.94 - ETA: 6s - loss: 0.1627 - accuracy: 0.94 - ETA: 6s - loss: 0.1577 - accuracy: 0.95 - ETA: 6s - loss: 0.1608 - accuracy: 0.94 - ETA: 6s - loss: 0.1636 - accuracy: 0.94 - ETA: 6s - loss: 0.1585 - accuracy: 0.95 - ETA: 6s - loss: 0.1544 - accuracy: 0.95 - ETA: 6s - loss: 0.1490 - accuracy: 0.95 - ETA: 6s - loss: 0.1518 - accuracy: 0.95 - ETA: 6s - loss: 0.1522 - accuracy: 0.95 - ETA: 6s - loss: 0.1514 - accuracy: 0.95 - ETA: 6s - loss: 0.1505 - accuracy: 0.95 - ETA: 6s - loss: 0.1480 - accuracy: 0.95 - ETA: 6s - loss: 0.1474 - accuracy: 0.95 - ETA: 6s - loss: 0.1480 - accuracy: 0.95 - ETA: 6s - loss: 0.1466 - accuracy: 0.95 - ETA: 6s - loss: 0.1466 - accuracy: 0.95 - ETA: 5s - loss: 0.1474 - accuracy: 0.95 - ETA: 5s - loss: 0.1461 - accuracy: 0.95 - ETA: 5s - loss: 0.1452 - accuracy: 0.95 - ETA: 5s - loss: 0.1463 - accuracy: 0.95 - ETA: 5s - loss: 0.1482 - accuracy: 0.95 - ETA: 5s - loss: 0.1483 - accuracy: 0.95 - ETA: 5s - loss: 0.1489 - accuracy: 0.95 - ETA: 5s - loss: 0.1493 - accuracy: 0.95 - ETA: 5s - loss: 0.1494 - accuracy: 0.95 - ETA: 5s - loss: 0.1527 - accuracy: 0.95 - ETA: 5s - loss: 0.1523 - accuracy: 0.95 - ETA: 5s - loss: 0.1519 - accuracy: 0.95 - ETA: 5s - loss: 0.1528 - accuracy: 0.95 - ETA: 5s - loss: 0.1534 - accuracy: 0.95 - ETA: 5s - loss: 0.1574 - accuracy: 0.95 - ETA: 5s - loss: 0.1574 - accuracy: 0.95 - ETA: 5s - loss: 0.1575 - accuracy: 0.95 - ETA: 5s - loss: 0.1580 - accuracy: 0.95 - ETA: 5s - loss: 0.1582 - accuracy: 0.95 - ETA: 4s - loss: 0.1592 - accuracy: 0.95 - ETA: 4s - loss: 0.1598 - accuracy: 0.95 - ETA: 4s - loss: 0.1619 - accuracy: 0.94 - ETA: 4s - loss: 0.1611 - accuracy: 0.94 - ETA: 4s - loss: 0.1610 - accuracy: 0.94 - ETA: 4s - loss: 0.1611 - accuracy: 0.94 - ETA: 4s - loss: 0.1608 - accuracy: 0.94 - ETA: 4s - loss: 0.1608 - accuracy: 0.94 - ETA: 4s - loss: 0.1616 - accuracy: 0.94 - ETA: 4s - loss: 0.1615 - accuracy: 0.94 - ETA: 4s - loss: 0.1611 - accuracy: 0.95 - ETA: 4s - loss: 0.1621 - accuracy: 0.94 - ETA: 4s - loss: 0.1613 - accuracy: 0.95 - ETA: 4s - loss: 0.1617 - accuracy: 0.94 - ETA: 4s - loss: 0.1620 - accuracy: 0.94 - ETA: 4s - loss: 0.1625 - accuracy: 0.94 - ETA: 4s - loss: 0.1629 - accuracy: 0.94 - ETA: 4s - loss: 0.1624 - accuracy: 0.94 - ETA: 3s - loss: 0.1626 - accuracy: 0.94 - ETA: 3s - loss: 0.1620 - accuracy: 0.95 - ETA: 3s - loss: 0.1619 - accuracy: 0.95 - ETA: 3s - loss: 0.1626 - accuracy: 0.95 - ETA: 3s - loss: 0.1628 - accuracy: 0.95 - ETA: 3s - loss: 0.1623 - accuracy: 0.95 - ETA: 3s - loss: 0.1617 - accuracy: 0.95 - ETA: 3s - loss: 0.1617 - accuracy: 0.95 - ETA: 3s - loss: 0.1611 - accuracy: 0.95 - ETA: 3s - loss: 0.1607 - accuracy: 0.95 - ETA: 3s - loss: 0.1613 - accuracy: 0.95 - ETA: 3s - loss: 0.1612 - accuracy: 0.95 - ETA: 3s - loss: 0.1609 - accuracy: 0.95 - ETA: 3s - loss: 0.1605 - accuracy: 0.95 - ETA: 3s - loss: 0.1607 - accuracy: 0.95 - ETA: 3s - loss: 0.1608 - accuracy: 0.95 - ETA: 3s - loss: 0.1613 - accuracy: 0.95 - ETA: 3s - loss: 0.1619 - accuracy: 0.95 - ETA: 3s - loss: 0.1623 - accuracy: 0.95 - ETA: 3s - loss: 0.1625 - accuracy: 0.95 - ETA: 2s - loss: 0.1623 - accuracy: 0.95 - ETA: 2s - loss: 0.1623 - accuracy: 0.95 - ETA: 2s - loss: 0.1623 - accuracy: 0.95 - ETA: 2s - loss: 0.1620 - accuracy: 0.95 - ETA: 2s - loss: 0.1628 - accuracy: 0.95 - ETA: 2s - loss: 0.1629 - accuracy: 0.95 - ETA: 2s - loss: 0.1631 - accuracy: 0.95 - ETA: 2s - loss: 0.1633 - accuracy: 0.95 - ETA: 2s - loss: 0.1630 - accuracy: 0.95 - ETA: 2s - loss: 0.1632 - accuracy: 0.95 - ETA: 2s - loss: 0.1630 - accuracy: 0.95 - ETA: 2s - loss: 0.1630 - accuracy: 0.95 - ETA: 2s - loss: 0.1626 - accuracy: 0.95 - ETA: 2s - loss: 0.1633 - accuracy: 0.95 - ETA: 2s - loss: 0.1640 - accuracy: 0.95 - ETA: 2s - loss: 0.1637 - accuracy: 0.95 - ETA: 2s - loss: 0.1633 - accuracy: 0.95 - ETA: 1s - loss: 0.1644 - accuracy: 0.95 - ETA: 1s - loss: 0.1645 - accuracy: 0.95 - ETA: 1s - loss: 0.1650 - accuracy: 0.95 - ETA: 1s - loss: 0.1652 - accuracy: 0.95 - ETA: 1s - loss: 0.1651 - accuracy: 0.95 - ETA: 1s - loss: 0.1646 - accuracy: 0.95 - ETA: 1s - loss: 0.1645 - accuracy: 0.95 - ETA: 1s - loss: 0.1645 - accuracy: 0.95 - ETA: 1s - loss: 0.1652 - accuracy: 0.95 - ETA: 1s - loss: 0.1646 - accuracy: 0.95 - ETA: 1s - loss: 0.1640 - accuracy: 0.95 - ETA: 1s - loss: 0.1641 - accuracy: 0.95 - ETA: 1s - loss: 0.1643 - accuracy: 0.95 - ETA: 1s - loss: 0.1641 - accuracy: 0.95 - ETA: 1s - loss: 0.1639 - accuracy: 0.95 - ETA: 1s - loss: 0.1640 - accuracy: 0.95 - ETA: 0s - loss: 0.1646 - accuracy: 0.95 - ETA: 0s - loss: 0.1644 - accuracy: 0.95 - ETA: 0s - loss: 0.1650 - accuracy: 0.95 - ETA: 0s - loss: 0.1640 - accuracy: 0.95 - ETA: 0s - loss: 0.1645 - accuracy: 0.95 - ETA: 0s - loss: 0.1646 - accuracy: 0.95 - ETA: 0s - loss: 0.1650 - accuracy: 0.95 - ETA: 0s - loss: 0.1649 - accuracy: 0.95 - ETA: 0s - loss: 0.1644 - accuracy: 0.95 - ETA: 0s - loss: 0.1645 - accuracy: 0.95 - ETA: 0s - loss: 0.1642 - accuracy: 0.95 - ETA: 0s - loss: 0.1638 - accuracy: 0.95 - ETA: 0s - loss: 0.1637 - accuracy: 0.95 - ETA: 0s - loss: 0.1634 - accuracy: 0.95 - ETA: 0s - loss: 0.1632 - accuracy: 0.95 - ETA: 0s - loss: 0.1634 - accuracy: 0.95 - ETA: 0s - loss: 0.1642 - accuracy: 0.95 - 8s 249us/step - loss: 0.1642 - accuracy: 0.9504 - val_loss: 0.0563 - val_accuracy: 0.9838\n",
      "Epoch 9/15\n"
     ]
    },
    {
     "name": "stdout",
     "output_type": "stream",
     "text": [
      "31367/31367 [==============================] - ETA: 7s - loss: 0.0676 - accuracy: 0.96 - ETA: 6s - loss: 0.2153 - accuracy: 0.95 - ETA: 6s - loss: 0.1867 - accuracy: 0.95 - ETA: 6s - loss: 0.1816 - accuracy: 0.94 - ETA: 6s - loss: 0.1953 - accuracy: 0.94 - ETA: 6s - loss: 0.1934 - accuracy: 0.94 - ETA: 6s - loss: 0.1938 - accuracy: 0.94 - ETA: 6s - loss: 0.1939 - accuracy: 0.94 - ETA: 6s - loss: 0.1857 - accuracy: 0.95 - ETA: 6s - loss: 0.1834 - accuracy: 0.95 - ETA: 6s - loss: 0.1839 - accuracy: 0.95 - ETA: 6s - loss: 0.1790 - accuracy: 0.95 - ETA: 6s - loss: 0.1762 - accuracy: 0.95 - ETA: 5s - loss: 0.1693 - accuracy: 0.95 - ETA: 5s - loss: 0.1693 - accuracy: 0.95 - ETA: 5s - loss: 0.1702 - accuracy: 0.95 - ETA: 5s - loss: 0.1709 - accuracy: 0.94 - ETA: 5s - loss: 0.1690 - accuracy: 0.94 - ETA: 5s - loss: 0.1696 - accuracy: 0.94 - ETA: 5s - loss: 0.1685 - accuracy: 0.95 - ETA: 5s - loss: 0.1641 - accuracy: 0.95 - ETA: 5s - loss: 0.1628 - accuracy: 0.95 - ETA: 5s - loss: 0.1656 - accuracy: 0.95 - ETA: 5s - loss: 0.1657 - accuracy: 0.95 - ETA: 5s - loss: 0.1665 - accuracy: 0.95 - ETA: 5s - loss: 0.1707 - accuracy: 0.95 - ETA: 5s - loss: 0.1702 - accuracy: 0.94 - ETA: 5s - loss: 0.1707 - accuracy: 0.95 - ETA: 5s - loss: 0.1723 - accuracy: 0.94 - ETA: 5s - loss: 0.1720 - accuracy: 0.94 - ETA: 4s - loss: 0.1715 - accuracy: 0.94 - ETA: 4s - loss: 0.1714 - accuracy: 0.94 - ETA: 4s - loss: 0.1709 - accuracy: 0.94 - ETA: 4s - loss: 0.1717 - accuracy: 0.94 - ETA: 4s - loss: 0.1692 - accuracy: 0.95 - ETA: 4s - loss: 0.1690 - accuracy: 0.95 - ETA: 4s - loss: 0.1672 - accuracy: 0.95 - ETA: 4s - loss: 0.1668 - accuracy: 0.95 - ETA: 4s - loss: 0.1670 - accuracy: 0.95 - ETA: 4s - loss: 0.1655 - accuracy: 0.95 - ETA: 4s - loss: 0.1640 - accuracy: 0.95 - ETA: 4s - loss: 0.1648 - accuracy: 0.95 - ETA: 4s - loss: 0.1625 - accuracy: 0.95 - ETA: 4s - loss: 0.1611 - accuracy: 0.95 - ETA: 4s - loss: 0.1606 - accuracy: 0.95 - ETA: 4s - loss: 0.1606 - accuracy: 0.95 - ETA: 4s - loss: 0.1618 - accuracy: 0.95 - ETA: 4s - loss: 0.1640 - accuracy: 0.95 - ETA: 4s - loss: 0.1640 - accuracy: 0.95 - ETA: 3s - loss: 0.1643 - accuracy: 0.95 - ETA: 3s - loss: 0.1640 - accuracy: 0.95 - ETA: 3s - loss: 0.1633 - accuracy: 0.95 - ETA: 3s - loss: 0.1650 - accuracy: 0.95 - ETA: 3s - loss: 0.1638 - accuracy: 0.95 - ETA: 3s - loss: 0.1620 - accuracy: 0.95 - ETA: 3s - loss: 0.1617 - accuracy: 0.95 - ETA: 3s - loss: 0.1611 - accuracy: 0.95 - ETA: 3s - loss: 0.1601 - accuracy: 0.95 - ETA: 3s - loss: 0.1597 - accuracy: 0.95 - ETA: 3s - loss: 0.1589 - accuracy: 0.95 - ETA: 3s - loss: 0.1587 - accuracy: 0.95 - ETA: 3s - loss: 0.1584 - accuracy: 0.95 - ETA: 3s - loss: 0.1576 - accuracy: 0.95 - ETA: 3s - loss: 0.1577 - accuracy: 0.95 - ETA: 3s - loss: 0.1577 - accuracy: 0.95 - ETA: 3s - loss: 0.1574 - accuracy: 0.95 - ETA: 3s - loss: 0.1585 - accuracy: 0.95 - ETA: 2s - loss: 0.1579 - accuracy: 0.95 - ETA: 2s - loss: 0.1584 - accuracy: 0.95 - ETA: 2s - loss: 0.1594 - accuracy: 0.95 - ETA: 2s - loss: 0.1590 - accuracy: 0.95 - ETA: 2s - loss: 0.1601 - accuracy: 0.95 - ETA: 2s - loss: 0.1601 - accuracy: 0.95 - ETA: 2s - loss: 0.1606 - accuracy: 0.95 - ETA: 2s - loss: 0.1609 - accuracy: 0.95 - ETA: 2s - loss: 0.1603 - accuracy: 0.95 - ETA: 2s - loss: 0.1603 - accuracy: 0.95 - ETA: 2s - loss: 0.1601 - accuracy: 0.95 - ETA: 2s - loss: 0.1600 - accuracy: 0.95 - ETA: 2s - loss: 0.1603 - accuracy: 0.95 - ETA: 2s - loss: 0.1591 - accuracy: 0.95 - ETA: 2s - loss: 0.1582 - accuracy: 0.95 - ETA: 2s - loss: 0.1590 - accuracy: 0.95 - ETA: 2s - loss: 0.1590 - accuracy: 0.95 - ETA: 2s - loss: 0.1584 - accuracy: 0.95 - ETA: 2s - loss: 0.1584 - accuracy: 0.95 - ETA: 1s - loss: 0.1582 - accuracy: 0.95 - ETA: 1s - loss: 0.1576 - accuracy: 0.95 - ETA: 1s - loss: 0.1564 - accuracy: 0.95 - ETA: 1s - loss: 0.1558 - accuracy: 0.95 - ETA: 1s - loss: 0.1555 - accuracy: 0.95 - ETA: 1s - loss: 0.1552 - accuracy: 0.95 - ETA: 1s - loss: 0.1551 - accuracy: 0.95 - ETA: 1s - loss: 0.1558 - accuracy: 0.95 - ETA: 1s - loss: 0.1553 - accuracy: 0.95 - ETA: 1s - loss: 0.1548 - accuracy: 0.95 - ETA: 1s - loss: 0.1542 - accuracy: 0.95 - ETA: 1s - loss: 0.1535 - accuracy: 0.95 - ETA: 1s - loss: 0.1533 - accuracy: 0.95 - ETA: 1s - loss: 0.1534 - accuracy: 0.95 - ETA: 1s - loss: 0.1529 - accuracy: 0.95 - ETA: 1s - loss: 0.1527 - accuracy: 0.95 - ETA: 1s - loss: 0.1524 - accuracy: 0.95 - ETA: 1s - loss: 0.1520 - accuracy: 0.95 - ETA: 1s - loss: 0.1518 - accuracy: 0.95 - ETA: 0s - loss: 0.1514 - accuracy: 0.95 - ETA: 0s - loss: 0.1511 - accuracy: 0.95 - ETA: 0s - loss: 0.1509 - accuracy: 0.95 - ETA: 0s - loss: 0.1510 - accuracy: 0.95 - ETA: 0s - loss: 0.1510 - accuracy: 0.95 - ETA: 0s - loss: 0.1510 - accuracy: 0.95 - ETA: 0s - loss: 0.1510 - accuracy: 0.95 - ETA: 0s - loss: 0.1509 - accuracy: 0.95 - ETA: 0s - loss: 0.1508 - accuracy: 0.95 - ETA: 0s - loss: 0.1506 - accuracy: 0.95 - ETA: 0s - loss: 0.1504 - accuracy: 0.95 - ETA: 0s - loss: 0.1502 - accuracy: 0.95 - ETA: 0s - loss: 0.1499 - accuracy: 0.95 - ETA: 0s - loss: 0.1500 - accuracy: 0.95 - ETA: 0s - loss: 0.1506 - accuracy: 0.95 - ETA: 0s - loss: 0.1507 - accuracy: 0.95 - ETA: 0s - loss: 0.1511 - accuracy: 0.95 - ETA: 0s - loss: 0.1520 - accuracy: 0.95 - 7s 230us/step - loss: 0.1520 - accuracy: 0.9544 - val_loss: 0.0585 - val_accuracy: 0.9829\n",
      "Epoch 10/15\n"
     ]
    },
    {
     "name": "stdout",
     "output_type": "stream",
     "text": [
      "31367/31367 [==============================] - ETA: 9s - loss: 0.0858 - accuracy: 0.96 - ETA: 7s - loss: 0.1780 - accuracy: 0.93 - ETA: 6s - loss: 0.1714 - accuracy: 0.94 - ETA: 6s - loss: 0.1898 - accuracy: 0.94 - ETA: 6s - loss: 0.1719 - accuracy: 0.94 - ETA: 6s - loss: 0.1792 - accuracy: 0.94 - ETA: 6s - loss: 0.1746 - accuracy: 0.94 - ETA: 6s - loss: 0.1718 - accuracy: 0.94 - ETA: 6s - loss: 0.1634 - accuracy: 0.94 - ETA: 6s - loss: 0.1572 - accuracy: 0.95 - ETA: 6s - loss: 0.1638 - accuracy: 0.94 - ETA: 6s - loss: 0.1622 - accuracy: 0.94 - ETA: 6s - loss: 0.1615 - accuracy: 0.95 - ETA: 5s - loss: 0.1561 - accuracy: 0.95 - ETA: 5s - loss: 0.1579 - accuracy: 0.95 - ETA: 5s - loss: 0.1622 - accuracy: 0.94 - ETA: 5s - loss: 0.1649 - accuracy: 0.94 - ETA: 5s - loss: 0.1658 - accuracy: 0.94 - ETA: 5s - loss: 0.1656 - accuracy: 0.94 - ETA: 5s - loss: 0.1643 - accuracy: 0.94 - ETA: 5s - loss: 0.1639 - accuracy: 0.94 - ETA: 5s - loss: 0.1633 - accuracy: 0.94 - ETA: 5s - loss: 0.1621 - accuracy: 0.94 - ETA: 5s - loss: 0.1619 - accuracy: 0.94 - ETA: 5s - loss: 0.1611 - accuracy: 0.94 - ETA: 5s - loss: 0.1612 - accuracy: 0.94 - ETA: 5s - loss: 0.1633 - accuracy: 0.94 - ETA: 5s - loss: 0.1649 - accuracy: 0.94 - ETA: 5s - loss: 0.1646 - accuracy: 0.94 - ETA: 5s - loss: 0.1625 - accuracy: 0.94 - ETA: 4s - loss: 0.1617 - accuracy: 0.94 - ETA: 4s - loss: 0.1604 - accuracy: 0.94 - ETA: 4s - loss: 0.1592 - accuracy: 0.95 - ETA: 4s - loss: 0.1606 - accuracy: 0.94 - ETA: 4s - loss: 0.1630 - accuracy: 0.94 - ETA: 4s - loss: 0.1626 - accuracy: 0.94 - ETA: 4s - loss: 0.1618 - accuracy: 0.94 - ETA: 4s - loss: 0.1626 - accuracy: 0.94 - ETA: 4s - loss: 0.1633 - accuracy: 0.94 - ETA: 4s - loss: 0.1631 - accuracy: 0.94 - ETA: 4s - loss: 0.1616 - accuracy: 0.94 - ETA: 4s - loss: 0.1598 - accuracy: 0.95 - ETA: 4s - loss: 0.1583 - accuracy: 0.95 - ETA: 4s - loss: 0.1581 - accuracy: 0.95 - ETA: 4s - loss: 0.1568 - accuracy: 0.95 - ETA: 4s - loss: 0.1554 - accuracy: 0.95 - ETA: 4s - loss: 0.1549 - accuracy: 0.95 - ETA: 4s - loss: 0.1550 - accuracy: 0.95 - ETA: 3s - loss: 0.1545 - accuracy: 0.95 - ETA: 3s - loss: 0.1552 - accuracy: 0.95 - ETA: 3s - loss: 0.1557 - accuracy: 0.95 - ETA: 3s - loss: 0.1555 - accuracy: 0.95 - ETA: 3s - loss: 0.1553 - accuracy: 0.95 - ETA: 3s - loss: 0.1549 - accuracy: 0.95 - ETA: 3s - loss: 0.1544 - accuracy: 0.95 - ETA: 3s - loss: 0.1549 - accuracy: 0.95 - ETA: 3s - loss: 0.1544 - accuracy: 0.95 - ETA: 3s - loss: 0.1557 - accuracy: 0.95 - ETA: 3s - loss: 0.1554 - accuracy: 0.95 - ETA: 3s - loss: 0.1554 - accuracy: 0.95 - ETA: 3s - loss: 0.1546 - accuracy: 0.95 - ETA: 3s - loss: 0.1545 - accuracy: 0.95 - ETA: 3s - loss: 0.1551 - accuracy: 0.95 - ETA: 3s - loss: 0.1548 - accuracy: 0.95 - ETA: 3s - loss: 0.1549 - accuracy: 0.95 - ETA: 3s - loss: 0.1547 - accuracy: 0.95 - ETA: 3s - loss: 0.1546 - accuracy: 0.95 - ETA: 2s - loss: 0.1544 - accuracy: 0.95 - ETA: 2s - loss: 0.1541 - accuracy: 0.95 - ETA: 2s - loss: 0.1534 - accuracy: 0.95 - ETA: 2s - loss: 0.1525 - accuracy: 0.95 - ETA: 2s - loss: 0.1524 - accuracy: 0.95 - ETA: 2s - loss: 0.1513 - accuracy: 0.95 - ETA: 2s - loss: 0.1510 - accuracy: 0.95 - ETA: 2s - loss: 0.1501 - accuracy: 0.95 - ETA: 2s - loss: 0.1497 - accuracy: 0.95 - ETA: 2s - loss: 0.1491 - accuracy: 0.95 - ETA: 2s - loss: 0.1488 - accuracy: 0.95 - ETA: 2s - loss: 0.1484 - accuracy: 0.95 - ETA: 2s - loss: 0.1494 - accuracy: 0.95 - ETA: 2s - loss: 0.1493 - accuracy: 0.95 - ETA: 2s - loss: 0.1493 - accuracy: 0.95 - ETA: 2s - loss: 0.1490 - accuracy: 0.95 - ETA: 2s - loss: 0.1485 - accuracy: 0.95 - ETA: 2s - loss: 0.1482 - accuracy: 0.95 - ETA: 2s - loss: 0.1486 - accuracy: 0.95 - ETA: 1s - loss: 0.1478 - accuracy: 0.95 - ETA: 1s - loss: 0.1485 - accuracy: 0.95 - ETA: 1s - loss: 0.1476 - accuracy: 0.95 - ETA: 1s - loss: 0.1479 - accuracy: 0.95 - ETA: 1s - loss: 0.1480 - accuracy: 0.95 - ETA: 1s - loss: 0.1480 - accuracy: 0.95 - ETA: 1s - loss: 0.1482 - accuracy: 0.95 - ETA: 1s - loss: 0.1481 - accuracy: 0.95 - ETA: 1s - loss: 0.1480 - accuracy: 0.95 - ETA: 1s - loss: 0.1476 - accuracy: 0.95 - ETA: 1s - loss: 0.1469 - accuracy: 0.95 - ETA: 1s - loss: 0.1465 - accuracy: 0.95 - ETA: 1s - loss: 0.1463 - accuracy: 0.95 - ETA: 1s - loss: 0.1453 - accuracy: 0.95 - ETA: 1s - loss: 0.1450 - accuracy: 0.95 - ETA: 1s - loss: 0.1445 - accuracy: 0.95 - ETA: 1s - loss: 0.1449 - accuracy: 0.95 - ETA: 1s - loss: 0.1444 - accuracy: 0.95 - ETA: 0s - loss: 0.1439 - accuracy: 0.95 - ETA: 0s - loss: 0.1441 - accuracy: 0.95 - ETA: 0s - loss: 0.1438 - accuracy: 0.95 - ETA: 0s - loss: 0.1430 - accuracy: 0.95 - ETA: 0s - loss: 0.1431 - accuracy: 0.95 - ETA: 0s - loss: 0.1427 - accuracy: 0.95 - ETA: 0s - loss: 0.1429 - accuracy: 0.95 - ETA: 0s - loss: 0.1438 - accuracy: 0.95 - ETA: 0s - loss: 0.1440 - accuracy: 0.95 - ETA: 0s - loss: 0.1442 - accuracy: 0.95 - ETA: 0s - loss: 0.1439 - accuracy: 0.95 - ETA: 0s - loss: 0.1436 - accuracy: 0.95 - ETA: 0s - loss: 0.1435 - accuracy: 0.95 - ETA: 0s - loss: 0.1432 - accuracy: 0.95 - ETA: 0s - loss: 0.1433 - accuracy: 0.95 - ETA: 0s - loss: 0.1436 - accuracy: 0.95 - ETA: 0s - loss: 0.1436 - accuracy: 0.95 - ETA: 0s - loss: 0.1433 - accuracy: 0.95 - ETA: 0s - loss: 0.1440 - accuracy: 0.95 - 7s 230us/step - loss: 0.1442 - accuracy: 0.9565 - val_loss: 0.0393 - val_accuracy: 0.9899\n",
      "Epoch 11/15\n"
     ]
    },
    {
     "name": "stdout",
     "output_type": "stream",
     "text": [
      "31367/31367 [==============================] - ETA: 8s - loss: 0.0246 - accuracy: 1.00 - ETA: 6s - loss: 0.1019 - accuracy: 0.96 - ETA: 6s - loss: 0.0966 - accuracy: 0.96 - ETA: 6s - loss: 0.0809 - accuracy: 0.97 - ETA: 6s - loss: 0.0951 - accuracy: 0.97 - ETA: 6s - loss: 0.0985 - accuracy: 0.97 - ETA: 6s - loss: 0.1025 - accuracy: 0.97 - ETA: 6s - loss: 0.0970 - accuracy: 0.97 - ETA: 6s - loss: 0.1076 - accuracy: 0.96 - ETA: 6s - loss: 0.1205 - accuracy: 0.96 - ETA: 6s - loss: 0.1208 - accuracy: 0.96 - ETA: 6s - loss: 0.1196 - accuracy: 0.96 - ETA: 6s - loss: 0.1266 - accuracy: 0.96 - ETA: 6s - loss: 0.1255 - accuracy: 0.96 - ETA: 6s - loss: 0.1201 - accuracy: 0.96 - ETA: 5s - loss: 0.1185 - accuracy: 0.96 - ETA: 5s - loss: 0.1205 - accuracy: 0.96 - ETA: 5s - loss: 0.1198 - accuracy: 0.96 - ETA: 5s - loss: 0.1195 - accuracy: 0.96 - ETA: 5s - loss: 0.1209 - accuracy: 0.96 - ETA: 5s - loss: 0.1245 - accuracy: 0.96 - ETA: 5s - loss: 0.1264 - accuracy: 0.96 - ETA: 5s - loss: 0.1275 - accuracy: 0.96 - ETA: 5s - loss: 0.1319 - accuracy: 0.95 - ETA: 5s - loss: 0.1343 - accuracy: 0.95 - ETA: 5s - loss: 0.1347 - accuracy: 0.95 - ETA: 5s - loss: 0.1349 - accuracy: 0.95 - ETA: 5s - loss: 0.1333 - accuracy: 0.95 - ETA: 5s - loss: 0.1338 - accuracy: 0.95 - ETA: 5s - loss: 0.1346 - accuracy: 0.95 - ETA: 5s - loss: 0.1348 - accuracy: 0.95 - ETA: 4s - loss: 0.1383 - accuracy: 0.95 - ETA: 4s - loss: 0.1390 - accuracy: 0.95 - ETA: 4s - loss: 0.1377 - accuracy: 0.95 - ETA: 4s - loss: 0.1383 - accuracy: 0.95 - ETA: 4s - loss: 0.1377 - accuracy: 0.95 - ETA: 4s - loss: 0.1373 - accuracy: 0.95 - ETA: 4s - loss: 0.1369 - accuracy: 0.95 - ETA: 4s - loss: 0.1373 - accuracy: 0.95 - ETA: 4s - loss: 0.1365 - accuracy: 0.95 - ETA: 4s - loss: 0.1365 - accuracy: 0.95 - ETA: 4s - loss: 0.1396 - accuracy: 0.95 - ETA: 4s - loss: 0.1395 - accuracy: 0.95 - ETA: 4s - loss: 0.1399 - accuracy: 0.95 - ETA: 4s - loss: 0.1404 - accuracy: 0.95 - ETA: 4s - loss: 0.1394 - accuracy: 0.95 - ETA: 4s - loss: 0.1394 - accuracy: 0.95 - ETA: 4s - loss: 0.1387 - accuracy: 0.95 - ETA: 4s - loss: 0.1389 - accuracy: 0.95 - ETA: 3s - loss: 0.1384 - accuracy: 0.95 - ETA: 3s - loss: 0.1381 - accuracy: 0.95 - ETA: 3s - loss: 0.1376 - accuracy: 0.95 - ETA: 3s - loss: 0.1378 - accuracy: 0.95 - ETA: 3s - loss: 0.1372 - accuracy: 0.95 - ETA: 3s - loss: 0.1363 - accuracy: 0.95 - ETA: 3s - loss: 0.1350 - accuracy: 0.95 - ETA: 3s - loss: 0.1346 - accuracy: 0.95 - ETA: 3s - loss: 0.1357 - accuracy: 0.95 - ETA: 3s - loss: 0.1365 - accuracy: 0.95 - ETA: 3s - loss: 0.1362 - accuracy: 0.95 - ETA: 3s - loss: 0.1360 - accuracy: 0.95 - ETA: 3s - loss: 0.1360 - accuracy: 0.95 - ETA: 3s - loss: 0.1355 - accuracy: 0.95 - ETA: 3s - loss: 0.1361 - accuracy: 0.95 - ETA: 3s - loss: 0.1356 - accuracy: 0.95 - ETA: 3s - loss: 0.1355 - accuracy: 0.95 - ETA: 2s - loss: 0.1343 - accuracy: 0.95 - ETA: 2s - loss: 0.1333 - accuracy: 0.95 - ETA: 2s - loss: 0.1334 - accuracy: 0.95 - ETA: 2s - loss: 0.1341 - accuracy: 0.95 - ETA: 2s - loss: 0.1339 - accuracy: 0.95 - ETA: 2s - loss: 0.1340 - accuracy: 0.95 - ETA: 2s - loss: 0.1339 - accuracy: 0.95 - ETA: 2s - loss: 0.1345 - accuracy: 0.95 - ETA: 2s - loss: 0.1349 - accuracy: 0.95 - ETA: 2s - loss: 0.1363 - accuracy: 0.95 - ETA: 2s - loss: 0.1357 - accuracy: 0.95 - ETA: 2s - loss: 0.1359 - accuracy: 0.95 - ETA: 2s - loss: 0.1364 - accuracy: 0.95 - ETA: 2s - loss: 0.1376 - accuracy: 0.95 - ETA: 2s - loss: 0.1384 - accuracy: 0.95 - ETA: 2s - loss: 0.1385 - accuracy: 0.95 - ETA: 2s - loss: 0.1392 - accuracy: 0.95 - ETA: 2s - loss: 0.1386 - accuracy: 0.95 - ETA: 2s - loss: 0.1391 - accuracy: 0.95 - ETA: 1s - loss: 0.1387 - accuracy: 0.95 - ETA: 1s - loss: 0.1380 - accuracy: 0.95 - ETA: 1s - loss: 0.1382 - accuracy: 0.95 - ETA: 1s - loss: 0.1379 - accuracy: 0.95 - ETA: 1s - loss: 0.1380 - accuracy: 0.95 - ETA: 1s - loss: 0.1388 - accuracy: 0.95 - ETA: 1s - loss: 0.1391 - accuracy: 0.95 - ETA: 1s - loss: 0.1394 - accuracy: 0.95 - ETA: 1s - loss: 0.1387 - accuracy: 0.95 - ETA: 1s - loss: 0.1380 - accuracy: 0.95 - ETA: 1s - loss: 0.1385 - accuracy: 0.95 - ETA: 1s - loss: 0.1393 - accuracy: 0.95 - ETA: 1s - loss: 0.1401 - accuracy: 0.95 - ETA: 1s - loss: 0.1400 - accuracy: 0.95 - ETA: 1s - loss: 0.1397 - accuracy: 0.95 - ETA: 1s - loss: 0.1393 - accuracy: 0.95 - ETA: 1s - loss: 0.1393 - accuracy: 0.95 - ETA: 1s - loss: 0.1389 - accuracy: 0.95 - ETA: 0s - loss: 0.1388 - accuracy: 0.95 - ETA: 0s - loss: 0.1395 - accuracy: 0.95 - ETA: 0s - loss: 0.1391 - accuracy: 0.95 - ETA: 0s - loss: 0.1390 - accuracy: 0.95 - ETA: 0s - loss: 0.1388 - accuracy: 0.95 - ETA: 0s - loss: 0.1391 - accuracy: 0.95 - ETA: 0s - loss: 0.1388 - accuracy: 0.95 - ETA: 0s - loss: 0.1383 - accuracy: 0.95 - ETA: 0s - loss: 0.1379 - accuracy: 0.95 - ETA: 0s - loss: 0.1385 - accuracy: 0.95 - ETA: 0s - loss: 0.1389 - accuracy: 0.95 - ETA: 0s - loss: 0.1386 - accuracy: 0.95 - ETA: 0s - loss: 0.1380 - accuracy: 0.95 - ETA: 0s - loss: 0.1383 - accuracy: 0.95 - ETA: 0s - loss: 0.1390 - accuracy: 0.95 - ETA: 0s - loss: 0.1392 - accuracy: 0.95 - ETA: 0s - loss: 0.1395 - accuracy: 0.95 - ETA: 0s - loss: 0.1392 - accuracy: 0.95 - ETA: 0s - loss: 0.1386 - accuracy: 0.95 - ETA: 0s - loss: 0.1388 - accuracy: 0.95 - 7s 229us/step - loss: 0.1387 - accuracy: 0.9580 - val_loss: 0.0509 - val_accuracy: 0.9878\n",
      "Epoch 12/15\n"
     ]
    },
    {
     "name": "stdout",
     "output_type": "stream",
     "text": [
      "31367/31367 [==============================] - ETA: 8s - loss: 0.0879 - accuracy: 0.93 - ETA: 6s - loss: 0.1402 - accuracy: 0.94 - ETA: 6s - loss: 0.1481 - accuracy: 0.95 - ETA: 6s - loss: 0.1403 - accuracy: 0.95 - ETA: 6s - loss: 0.1303 - accuracy: 0.96 - ETA: 6s - loss: 0.1275 - accuracy: 0.96 - ETA: 6s - loss: 0.1290 - accuracy: 0.96 - ETA: 6s - loss: 0.1273 - accuracy: 0.96 - ETA: 6s - loss: 0.1210 - accuracy: 0.96 - ETA: 6s - loss: 0.1241 - accuracy: 0.96 - ETA: 6s - loss: 0.1232 - accuracy: 0.96 - ETA: 5s - loss: 0.1249 - accuracy: 0.96 - ETA: 5s - loss: 0.1226 - accuracy: 0.96 - ETA: 5s - loss: 0.1240 - accuracy: 0.96 - ETA: 5s - loss: 0.1240 - accuracy: 0.96 - ETA: 5s - loss: 0.1305 - accuracy: 0.96 - ETA: 5s - loss: 0.1297 - accuracy: 0.96 - ETA: 5s - loss: 0.1281 - accuracy: 0.96 - ETA: 5s - loss: 0.1294 - accuracy: 0.96 - ETA: 5s - loss: 0.1305 - accuracy: 0.96 - ETA: 5s - loss: 0.1290 - accuracy: 0.96 - ETA: 5s - loss: 0.1271 - accuracy: 0.96 - ETA: 5s - loss: 0.1264 - accuracy: 0.96 - ETA: 5s - loss: 0.1239 - accuracy: 0.96 - ETA: 5s - loss: 0.1246 - accuracy: 0.96 - ETA: 5s - loss: 0.1288 - accuracy: 0.96 - ETA: 5s - loss: 0.1297 - accuracy: 0.96 - ETA: 5s - loss: 0.1293 - accuracy: 0.96 - ETA: 4s - loss: 0.1282 - accuracy: 0.96 - ETA: 4s - loss: 0.1288 - accuracy: 0.96 - ETA: 4s - loss: 0.1281 - accuracy: 0.96 - ETA: 4s - loss: 0.1272 - accuracy: 0.96 - ETA: 4s - loss: 0.1288 - accuracy: 0.96 - ETA: 4s - loss: 0.1281 - accuracy: 0.96 - ETA: 4s - loss: 0.1264 - accuracy: 0.96 - ETA: 4s - loss: 0.1266 - accuracy: 0.96 - ETA: 4s - loss: 0.1273 - accuracy: 0.96 - ETA: 4s - loss: 0.1259 - accuracy: 0.96 - ETA: 4s - loss: 0.1250 - accuracy: 0.96 - ETA: 4s - loss: 0.1242 - accuracy: 0.96 - ETA: 4s - loss: 0.1253 - accuracy: 0.96 - ETA: 4s - loss: 0.1264 - accuracy: 0.96 - ETA: 4s - loss: 0.1278 - accuracy: 0.96 - ETA: 4s - loss: 0.1282 - accuracy: 0.96 - ETA: 4s - loss: 0.1279 - accuracy: 0.96 - ETA: 4s - loss: 0.1293 - accuracy: 0.96 - ETA: 3s - loss: 0.1289 - accuracy: 0.96 - ETA: 3s - loss: 0.1287 - accuracy: 0.96 - ETA: 3s - loss: 0.1289 - accuracy: 0.96 - ETA: 3s - loss: 0.1294 - accuracy: 0.96 - ETA: 3s - loss: 0.1293 - accuracy: 0.96 - ETA: 3s - loss: 0.1291 - accuracy: 0.96 - ETA: 3s - loss: 0.1307 - accuracy: 0.96 - ETA: 3s - loss: 0.1318 - accuracy: 0.96 - ETA: 3s - loss: 0.1324 - accuracy: 0.96 - ETA: 3s - loss: 0.1324 - accuracy: 0.96 - ETA: 3s - loss: 0.1315 - accuracy: 0.96 - ETA: 3s - loss: 0.1308 - accuracy: 0.96 - ETA: 3s - loss: 0.1300 - accuracy: 0.96 - ETA: 3s - loss: 0.1296 - accuracy: 0.96 - ETA: 3s - loss: 0.1286 - accuracy: 0.96 - ETA: 3s - loss: 0.1272 - accuracy: 0.96 - ETA: 3s - loss: 0.1265 - accuracy: 0.96 - ETA: 3s - loss: 0.1259 - accuracy: 0.96 - ETA: 3s - loss: 0.1265 - accuracy: 0.96 - ETA: 2s - loss: 0.1270 - accuracy: 0.96 - ETA: 2s - loss: 0.1262 - accuracy: 0.96 - ETA: 2s - loss: 0.1261 - accuracy: 0.96 - ETA: 2s - loss: 0.1266 - accuracy: 0.96 - ETA: 2s - loss: 0.1256 - accuracy: 0.96 - ETA: 2s - loss: 0.1253 - accuracy: 0.96 - ETA: 2s - loss: 0.1251 - accuracy: 0.96 - ETA: 2s - loss: 0.1264 - accuracy: 0.96 - ETA: 2s - loss: 0.1276 - accuracy: 0.96 - ETA: 2s - loss: 0.1269 - accuracy: 0.96 - ETA: 2s - loss: 0.1273 - accuracy: 0.96 - ETA: 2s - loss: 0.1276 - accuracy: 0.96 - ETA: 2s - loss: 0.1272 - accuracy: 0.96 - ETA: 2s - loss: 0.1278 - accuracy: 0.96 - ETA: 2s - loss: 0.1276 - accuracy: 0.96 - ETA: 2s - loss: 0.1273 - accuracy: 0.96 - ETA: 2s - loss: 0.1271 - accuracy: 0.96 - ETA: 2s - loss: 0.1269 - accuracy: 0.96 - ETA: 2s - loss: 0.1271 - accuracy: 0.96 - ETA: 1s - loss: 0.1273 - accuracy: 0.96 - ETA: 1s - loss: 0.1268 - accuracy: 0.96 - ETA: 1s - loss: 0.1265 - accuracy: 0.96 - ETA: 1s - loss: 0.1264 - accuracy: 0.96 - ETA: 1s - loss: 0.1263 - accuracy: 0.96 - ETA: 1s - loss: 0.1261 - accuracy: 0.96 - ETA: 1s - loss: 0.1258 - accuracy: 0.96 - ETA: 1s - loss: 0.1267 - accuracy: 0.96 - ETA: 1s - loss: 0.1275 - accuracy: 0.96 - ETA: 1s - loss: 0.1278 - accuracy: 0.96 - ETA: 1s - loss: 0.1279 - accuracy: 0.96 - ETA: 1s - loss: 0.1278 - accuracy: 0.96 - ETA: 1s - loss: 0.1276 - accuracy: 0.96 - ETA: 1s - loss: 0.1278 - accuracy: 0.96 - ETA: 1s - loss: 0.1278 - accuracy: 0.96 - ETA: 1s - loss: 0.1278 - accuracy: 0.96 - ETA: 1s - loss: 0.1282 - accuracy: 0.96 - ETA: 1s - loss: 0.1283 - accuracy: 0.96 - ETA: 1s - loss: 0.1284 - accuracy: 0.96 - ETA: 0s - loss: 0.1285 - accuracy: 0.96 - ETA: 0s - loss: 0.1290 - accuracy: 0.96 - ETA: 0s - loss: 0.1293 - accuracy: 0.96 - ETA: 0s - loss: 0.1287 - accuracy: 0.96 - ETA: 0s - loss: 0.1289 - accuracy: 0.96 - ETA: 0s - loss: 0.1287 - accuracy: 0.96 - ETA: 0s - loss: 0.1285 - accuracy: 0.96 - ETA: 0s - loss: 0.1281 - accuracy: 0.96 - ETA: 0s - loss: 0.1278 - accuracy: 0.96 - ETA: 0s - loss: 0.1276 - accuracy: 0.96 - ETA: 0s - loss: 0.1278 - accuracy: 0.96 - ETA: 0s - loss: 0.1281 - accuracy: 0.96 - ETA: 0s - loss: 0.1280 - accuracy: 0.96 - ETA: 0s - loss: 0.1286 - accuracy: 0.96 - ETA: 0s - loss: 0.1283 - accuracy: 0.96 - ETA: 0s - loss: 0.1287 - accuracy: 0.96 - ETA: 0s - loss: 0.1298 - accuracy: 0.96 - ETA: 0s - loss: 0.1297 - accuracy: 0.96 - ETA: 0s - loss: 0.1298 - accuracy: 0.96 - 7s 228us/step - loss: 0.1300 - accuracy: 0.9616 - val_loss: 0.0401 - val_accuracy: 0.9885\n",
      "Epoch 13/15\n"
     ]
    },
    {
     "name": "stdout",
     "output_type": "stream",
     "text": [
      "31367/31367 [==============================] - ETA: 9s - loss: 0.2078 - accuracy: 0.90 - ETA: 7s - loss: 0.1056 - accuracy: 0.96 - ETA: 6s - loss: 0.1600 - accuracy: 0.95 - ETA: 6s - loss: 0.1488 - accuracy: 0.95 - ETA: 6s - loss: 0.1336 - accuracy: 0.96 - ETA: 6s - loss: 0.1218 - accuracy: 0.96 - ETA: 6s - loss: 0.1123 - accuracy: 0.96 - ETA: 6s - loss: 0.1183 - accuracy: 0.96 - ETA: 5s - loss: 0.1217 - accuracy: 0.96 - ETA: 5s - loss: 0.1177 - accuracy: 0.96 - ETA: 5s - loss: 0.1139 - accuracy: 0.96 - ETA: 5s - loss: 0.1127 - accuracy: 0.96 - ETA: 5s - loss: 0.1108 - accuracy: 0.96 - ETA: 5s - loss: 0.1115 - accuracy: 0.96 - ETA: 5s - loss: 0.1098 - accuracy: 0.96 - ETA: 5s - loss: 0.1125 - accuracy: 0.96 - ETA: 5s - loss: 0.1109 - accuracy: 0.96 - ETA: 5s - loss: 0.1122 - accuracy: 0.96 - ETA: 5s - loss: 0.1154 - accuracy: 0.96 - ETA: 5s - loss: 0.1125 - accuracy: 0.96 - ETA: 5s - loss: 0.1158 - accuracy: 0.96 - ETA: 5s - loss: 0.1154 - accuracy: 0.96 - ETA: 5s - loss: 0.1179 - accuracy: 0.96 - ETA: 5s - loss: 0.1163 - accuracy: 0.96 - ETA: 5s - loss: 0.1141 - accuracy: 0.96 - ETA: 5s - loss: 0.1139 - accuracy: 0.96 - ETA: 5s - loss: 0.1156 - accuracy: 0.96 - ETA: 5s - loss: 0.1186 - accuracy: 0.96 - ETA: 4s - loss: 0.1198 - accuracy: 0.96 - ETA: 4s - loss: 0.1199 - accuracy: 0.96 - ETA: 4s - loss: 0.1205 - accuracy: 0.96 - ETA: 4s - loss: 0.1198 - accuracy: 0.96 - ETA: 4s - loss: 0.1206 - accuracy: 0.96 - ETA: 4s - loss: 0.1195 - accuracy: 0.96 - ETA: 4s - loss: 0.1195 - accuracy: 0.96 - ETA: 4s - loss: 0.1189 - accuracy: 0.96 - ETA: 4s - loss: 0.1191 - accuracy: 0.96 - ETA: 4s - loss: 0.1178 - accuracy: 0.96 - ETA: 4s - loss: 0.1180 - accuracy: 0.96 - ETA: 4s - loss: 0.1179 - accuracy: 0.96 - ETA: 4s - loss: 0.1183 - accuracy: 0.96 - ETA: 4s - loss: 0.1178 - accuracy: 0.96 - ETA: 4s - loss: 0.1173 - accuracy: 0.96 - ETA: 4s - loss: 0.1165 - accuracy: 0.96 - ETA: 4s - loss: 0.1179 - accuracy: 0.96 - ETA: 4s - loss: 0.1186 - accuracy: 0.96 - ETA: 4s - loss: 0.1181 - accuracy: 0.96 - ETA: 4s - loss: 0.1189 - accuracy: 0.96 - ETA: 3s - loss: 0.1194 - accuracy: 0.96 - ETA: 3s - loss: 0.1206 - accuracy: 0.96 - ETA: 3s - loss: 0.1211 - accuracy: 0.96 - ETA: 3s - loss: 0.1209 - accuracy: 0.96 - ETA: 3s - loss: 0.1212 - accuracy: 0.96 - ETA: 3s - loss: 0.1207 - accuracy: 0.96 - ETA: 3s - loss: 0.1191 - accuracy: 0.96 - ETA: 3s - loss: 0.1182 - accuracy: 0.96 - ETA: 3s - loss: 0.1174 - accuracy: 0.96 - ETA: 3s - loss: 0.1172 - accuracy: 0.96 - ETA: 3s - loss: 0.1196 - accuracy: 0.96 - ETA: 3s - loss: 0.1192 - accuracy: 0.96 - ETA: 3s - loss: 0.1192 - accuracy: 0.96 - ETA: 3s - loss: 0.1190 - accuracy: 0.96 - ETA: 3s - loss: 0.1195 - accuracy: 0.96 - ETA: 3s - loss: 0.1197 - accuracy: 0.96 - ETA: 3s - loss: 0.1200 - accuracy: 0.96 - ETA: 3s - loss: 0.1197 - accuracy: 0.96 - ETA: 3s - loss: 0.1202 - accuracy: 0.96 - ETA: 2s - loss: 0.1213 - accuracy: 0.96 - ETA: 2s - loss: 0.1209 - accuracy: 0.96 - ETA: 2s - loss: 0.1199 - accuracy: 0.96 - ETA: 2s - loss: 0.1206 - accuracy: 0.96 - ETA: 2s - loss: 0.1207 - accuracy: 0.96 - ETA: 2s - loss: 0.1203 - accuracy: 0.96 - ETA: 2s - loss: 0.1204 - accuracy: 0.96 - ETA: 2s - loss: 0.1202 - accuracy: 0.96 - ETA: 2s - loss: 0.1200 - accuracy: 0.96 - ETA: 2s - loss: 0.1203 - accuracy: 0.96 - ETA: 2s - loss: 0.1204 - accuracy: 0.96 - ETA: 2s - loss: 0.1200 - accuracy: 0.96 - ETA: 2s - loss: 0.1201 - accuracy: 0.96 - ETA: 2s - loss: 0.1195 - accuracy: 0.96 - ETA: 2s - loss: 0.1206 - accuracy: 0.96 - ETA: 2s - loss: 0.1206 - accuracy: 0.96 - ETA: 2s - loss: 0.1208 - accuracy: 0.96 - ETA: 2s - loss: 0.1213 - accuracy: 0.96 - ETA: 1s - loss: 0.1211 - accuracy: 0.96 - ETA: 1s - loss: 0.1211 - accuracy: 0.96 - ETA: 1s - loss: 0.1206 - accuracy: 0.96 - ETA: 1s - loss: 0.1212 - accuracy: 0.96 - ETA: 1s - loss: 0.1212 - accuracy: 0.96 - ETA: 1s - loss: 0.1211 - accuracy: 0.96 - ETA: 1s - loss: 0.1211 - accuracy: 0.96 - ETA: 1s - loss: 0.1205 - accuracy: 0.96 - ETA: 1s - loss: 0.1198 - accuracy: 0.96 - ETA: 1s - loss: 0.1200 - accuracy: 0.96 - ETA: 1s - loss: 0.1196 - accuracy: 0.96 - ETA: 1s - loss: 0.1192 - accuracy: 0.96 - ETA: 1s - loss: 0.1185 - accuracy: 0.96 - ETA: 1s - loss: 0.1185 - accuracy: 0.96 - ETA: 1s - loss: 0.1186 - accuracy: 0.96 - ETA: 1s - loss: 0.1192 - accuracy: 0.96 - ETA: 1s - loss: 0.1191 - accuracy: 0.96 - ETA: 1s - loss: 0.1188 - accuracy: 0.96 - ETA: 1s - loss: 0.1190 - accuracy: 0.96 - ETA: 0s - loss: 0.1187 - accuracy: 0.96 - ETA: 0s - loss: 0.1183 - accuracy: 0.96 - ETA: 0s - loss: 0.1185 - accuracy: 0.96 - ETA: 0s - loss: 0.1184 - accuracy: 0.96 - ETA: 0s - loss: 0.1182 - accuracy: 0.96 - ETA: 0s - loss: 0.1183 - accuracy: 0.96 - ETA: 0s - loss: 0.1182 - accuracy: 0.96 - ETA: 0s - loss: 0.1181 - accuracy: 0.96 - ETA: 0s - loss: 0.1186 - accuracy: 0.96 - ETA: 0s - loss: 0.1193 - accuracy: 0.96 - ETA: 0s - loss: 0.1201 - accuracy: 0.96 - ETA: 0s - loss: 0.1202 - accuracy: 0.96 - ETA: 0s - loss: 0.1203 - accuracy: 0.96 - ETA: 0s - loss: 0.1204 - accuracy: 0.96 - ETA: 0s - loss: 0.1207 - accuracy: 0.96 - ETA: 0s - loss: 0.1207 - accuracy: 0.96 - ETA: 0s - loss: 0.1210 - accuracy: 0.96 - ETA: 0s - loss: 0.1213 - accuracy: 0.96 - ETA: 0s - loss: 0.1212 - accuracy: 0.96 - 7s 230us/step - loss: 0.1213 - accuracy: 0.9636 - val_loss: 0.0382 - val_accuracy: 0.9903\n",
      "Epoch 14/15\n"
     ]
    },
    {
     "name": "stdout",
     "output_type": "stream",
     "text": [
      "31367/31367 [==============================] - ETA: 8s - loss: 0.0278 - accuracy: 1.00 - ETA: 6s - loss: 0.1029 - accuracy: 0.97 - ETA: 6s - loss: 0.1029 - accuracy: 0.97 - ETA: 6s - loss: 0.1301 - accuracy: 0.96 - ETA: 6s - loss: 0.1359 - accuracy: 0.96 - ETA: 6s - loss: 0.1251 - accuracy: 0.96 - ETA: 6s - loss: 0.1296 - accuracy: 0.96 - ETA: 6s - loss: 0.1270 - accuracy: 0.96 - ETA: 6s - loss: 0.1295 - accuracy: 0.96 - ETA: 5s - loss: 0.1217 - accuracy: 0.96 - ETA: 5s - loss: 0.1256 - accuracy: 0.96 - ETA: 5s - loss: 0.1267 - accuracy: 0.96 - ETA: 5s - loss: 0.1263 - accuracy: 0.96 - ETA: 5s - loss: 0.1261 - accuracy: 0.96 - ETA: 5s - loss: 0.1285 - accuracy: 0.96 - ETA: 5s - loss: 0.1307 - accuracy: 0.96 - ETA: 5s - loss: 0.1367 - accuracy: 0.96 - ETA: 5s - loss: 0.1387 - accuracy: 0.96 - ETA: 5s - loss: 0.1356 - accuracy: 0.96 - ETA: 5s - loss: 0.1333 - accuracy: 0.96 - ETA: 5s - loss: 0.1328 - accuracy: 0.96 - ETA: 5s - loss: 0.1356 - accuracy: 0.96 - ETA: 5s - loss: 0.1365 - accuracy: 0.96 - ETA: 5s - loss: 0.1389 - accuracy: 0.95 - ETA: 5s - loss: 0.1368 - accuracy: 0.96 - ETA: 5s - loss: 0.1388 - accuracy: 0.95 - ETA: 5s - loss: 0.1392 - accuracy: 0.95 - ETA: 5s - loss: 0.1377 - accuracy: 0.95 - ETA: 4s - loss: 0.1376 - accuracy: 0.95 - ETA: 4s - loss: 0.1389 - accuracy: 0.95 - ETA: 4s - loss: 0.1392 - accuracy: 0.95 - ETA: 4s - loss: 0.1371 - accuracy: 0.95 - ETA: 4s - loss: 0.1371 - accuracy: 0.95 - ETA: 4s - loss: 0.1375 - accuracy: 0.95 - ETA: 4s - loss: 0.1365 - accuracy: 0.96 - ETA: 4s - loss: 0.1367 - accuracy: 0.96 - ETA: 4s - loss: 0.1347 - accuracy: 0.96 - ETA: 4s - loss: 0.1329 - accuracy: 0.96 - ETA: 4s - loss: 0.1319 - accuracy: 0.96 - ETA: 4s - loss: 0.1309 - accuracy: 0.96 - ETA: 4s - loss: 0.1300 - accuracy: 0.96 - ETA: 4s - loss: 0.1286 - accuracy: 0.96 - ETA: 4s - loss: 0.1288 - accuracy: 0.96 - ETA: 4s - loss: 0.1292 - accuracy: 0.96 - ETA: 4s - loss: 0.1285 - accuracy: 0.96 - ETA: 4s - loss: 0.1269 - accuracy: 0.96 - ETA: 4s - loss: 0.1262 - accuracy: 0.96 - ETA: 4s - loss: 0.1262 - accuracy: 0.96 - ETA: 3s - loss: 0.1264 - accuracy: 0.96 - ETA: 3s - loss: 0.1267 - accuracy: 0.96 - ETA: 3s - loss: 0.1268 - accuracy: 0.96 - ETA: 3s - loss: 0.1284 - accuracy: 0.96 - ETA: 3s - loss: 0.1287 - accuracy: 0.96 - ETA: 3s - loss: 0.1278 - accuracy: 0.96 - ETA: 3s - loss: 0.1295 - accuracy: 0.96 - ETA: 3s - loss: 0.1290 - accuracy: 0.96 - ETA: 3s - loss: 0.1293 - accuracy: 0.96 - ETA: 3s - loss: 0.1281 - accuracy: 0.96 - ETA: 3s - loss: 0.1278 - accuracy: 0.96 - ETA: 3s - loss: 0.1270 - accuracy: 0.96 - ETA: 3s - loss: 0.1269 - accuracy: 0.96 - ETA: 3s - loss: 0.1274 - accuracy: 0.96 - ETA: 3s - loss: 0.1269 - accuracy: 0.96 - ETA: 3s - loss: 0.1267 - accuracy: 0.96 - ETA: 3s - loss: 0.1256 - accuracy: 0.96 - ETA: 3s - loss: 0.1257 - accuracy: 0.96 - ETA: 3s - loss: 0.1267 - accuracy: 0.96 - ETA: 2s - loss: 0.1263 - accuracy: 0.96 - ETA: 2s - loss: 0.1258 - accuracy: 0.96 - ETA: 2s - loss: 0.1257 - accuracy: 0.96 - ETA: 2s - loss: 0.1250 - accuracy: 0.96 - ETA: 2s - loss: 0.1241 - accuracy: 0.96 - ETA: 2s - loss: 0.1235 - accuracy: 0.96 - ETA: 2s - loss: 0.1244 - accuracy: 0.96 - ETA: 2s - loss: 0.1253 - accuracy: 0.96 - ETA: 2s - loss: 0.1245 - accuracy: 0.96 - ETA: 2s - loss: 0.1248 - accuracy: 0.96 - ETA: 2s - loss: 0.1238 - accuracy: 0.96 - ETA: 2s - loss: 0.1233 - accuracy: 0.96 - ETA: 2s - loss: 0.1224 - accuracy: 0.96 - ETA: 2s - loss: 0.1227 - accuracy: 0.96 - ETA: 2s - loss: 0.1228 - accuracy: 0.96 - ETA: 2s - loss: 0.1226 - accuracy: 0.96 - ETA: 2s - loss: 0.1220 - accuracy: 0.96 - ETA: 2s - loss: 0.1219 - accuracy: 0.96 - ETA: 1s - loss: 0.1216 - accuracy: 0.96 - ETA: 1s - loss: 0.1227 - accuracy: 0.96 - ETA: 1s - loss: 0.1225 - accuracy: 0.96 - ETA: 1s - loss: 0.1221 - accuracy: 0.96 - ETA: 1s - loss: 0.1224 - accuracy: 0.96 - ETA: 1s - loss: 0.1227 - accuracy: 0.96 - ETA: 1s - loss: 0.1229 - accuracy: 0.96 - ETA: 1s - loss: 0.1229 - accuracy: 0.96 - ETA: 1s - loss: 0.1228 - accuracy: 0.96 - ETA: 1s - loss: 0.1222 - accuracy: 0.96 - ETA: 1s - loss: 0.1223 - accuracy: 0.96 - ETA: 1s - loss: 0.1219 - accuracy: 0.96 - ETA: 1s - loss: 0.1223 - accuracy: 0.96 - ETA: 1s - loss: 0.1222 - accuracy: 0.96 - ETA: 1s - loss: 0.1225 - accuracy: 0.96 - ETA: 1s - loss: 0.1222 - accuracy: 0.96 - ETA: 1s - loss: 0.1216 - accuracy: 0.96 - ETA: 1s - loss: 0.1217 - accuracy: 0.96 - ETA: 1s - loss: 0.1214 - accuracy: 0.96 - ETA: 0s - loss: 0.1210 - accuracy: 0.96 - ETA: 0s - loss: 0.1207 - accuracy: 0.96 - ETA: 0s - loss: 0.1212 - accuracy: 0.96 - ETA: 0s - loss: 0.1210 - accuracy: 0.96 - ETA: 0s - loss: 0.1211 - accuracy: 0.96 - ETA: 0s - loss: 0.1210 - accuracy: 0.96 - ETA: 0s - loss: 0.1206 - accuracy: 0.96 - ETA: 0s - loss: 0.1206 - accuracy: 0.96 - ETA: 0s - loss: 0.1206 - accuracy: 0.96 - ETA: 0s - loss: 0.1200 - accuracy: 0.96 - ETA: 0s - loss: 0.1202 - accuracy: 0.96 - ETA: 0s - loss: 0.1196 - accuracy: 0.96 - ETA: 0s - loss: 0.1196 - accuracy: 0.96 - ETA: 0s - loss: 0.1197 - accuracy: 0.96 - ETA: 0s - loss: 0.1197 - accuracy: 0.96 - ETA: 0s - loss: 0.1199 - accuracy: 0.96 - ETA: 0s - loss: 0.1205 - accuracy: 0.96 - ETA: 0s - loss: 0.1209 - accuracy: 0.96 - ETA: 0s - loss: 0.1206 - accuracy: 0.96 - 7s 230us/step - loss: 0.1215 - accuracy: 0.9646 - val_loss: 0.0434 - val_accuracy: 0.9885\n",
      "Epoch 15/15\n"
     ]
    },
    {
     "name": "stdout",
     "output_type": "stream",
     "text": [
      "31367/31367 [==============================] - ETA: 7s - loss: 0.4437 - accuracy: 0.86 - ETA: 6s - loss: 0.1061 - accuracy: 0.96 - ETA: 6s - loss: 0.1290 - accuracy: 0.95 - ETA: 6s - loss: 0.1089 - accuracy: 0.96 - ETA: 6s - loss: 0.1073 - accuracy: 0.96 - ETA: 6s - loss: 0.1125 - accuracy: 0.96 - ETA: 6s - loss: 0.1247 - accuracy: 0.96 - ETA: 6s - loss: 0.1185 - accuracy: 0.96 - ETA: 6s - loss: 0.1210 - accuracy: 0.96 - ETA: 6s - loss: 0.1176 - accuracy: 0.96 - ETA: 5s - loss: 0.1168 - accuracy: 0.96 - ETA: 5s - loss: 0.1131 - accuracy: 0.96 - ETA: 5s - loss: 0.1093 - accuracy: 0.96 - ETA: 5s - loss: 0.1100 - accuracy: 0.96 - ETA: 5s - loss: 0.1134 - accuracy: 0.96 - ETA: 5s - loss: 0.1138 - accuracy: 0.96 - ETA: 5s - loss: 0.1145 - accuracy: 0.96 - ETA: 5s - loss: 0.1155 - accuracy: 0.96 - ETA: 5s - loss: 0.1203 - accuracy: 0.96 - ETA: 5s - loss: 0.1218 - accuracy: 0.96 - ETA: 5s - loss: 0.1213 - accuracy: 0.96 - ETA: 5s - loss: 0.1222 - accuracy: 0.96 - ETA: 5s - loss: 0.1240 - accuracy: 0.96 - ETA: 5s - loss: 0.1237 - accuracy: 0.96 - ETA: 5s - loss: 0.1261 - accuracy: 0.96 - ETA: 5s - loss: 0.1261 - accuracy: 0.96 - ETA: 5s - loss: 0.1288 - accuracy: 0.96 - ETA: 5s - loss: 0.1270 - accuracy: 0.96 - ETA: 5s - loss: 0.1256 - accuracy: 0.96 - ETA: 4s - loss: 0.1266 - accuracy: 0.96 - ETA: 4s - loss: 0.1244 - accuracy: 0.96 - ETA: 4s - loss: 0.1233 - accuracy: 0.96 - ETA: 4s - loss: 0.1221 - accuracy: 0.96 - ETA: 4s - loss: 0.1211 - accuracy: 0.96 - ETA: 4s - loss: 0.1215 - accuracy: 0.96 - ETA: 4s - loss: 0.1217 - accuracy: 0.96 - ETA: 4s - loss: 0.1218 - accuracy: 0.96 - ETA: 4s - loss: 0.1231 - accuracy: 0.96 - ETA: 4s - loss: 0.1218 - accuracy: 0.96 - ETA: 4s - loss: 0.1221 - accuracy: 0.96 - ETA: 4s - loss: 0.1229 - accuracy: 0.96 - ETA: 4s - loss: 0.1213 - accuracy: 0.96 - ETA: 4s - loss: 0.1214 - accuracy: 0.96 - ETA: 4s - loss: 0.1213 - accuracy: 0.96 - ETA: 4s - loss: 0.1203 - accuracy: 0.96 - ETA: 4s - loss: 0.1200 - accuracy: 0.96 - ETA: 4s - loss: 0.1185 - accuracy: 0.96 - ETA: 3s - loss: 0.1171 - accuracy: 0.96 - ETA: 3s - loss: 0.1161 - accuracy: 0.96 - ETA: 3s - loss: 0.1164 - accuracy: 0.96 - ETA: 3s - loss: 0.1154 - accuracy: 0.96 - ETA: 3s - loss: 0.1147 - accuracy: 0.96 - ETA: 3s - loss: 0.1137 - accuracy: 0.96 - ETA: 3s - loss: 0.1126 - accuracy: 0.96 - ETA: 3s - loss: 0.1141 - accuracy: 0.96 - ETA: 3s - loss: 0.1136 - accuracy: 0.96 - ETA: 3s - loss: 0.1135 - accuracy: 0.96 - ETA: 3s - loss: 0.1128 - accuracy: 0.96 - ETA: 3s - loss: 0.1133 - accuracy: 0.96 - ETA: 3s - loss: 0.1129 - accuracy: 0.96 - ETA: 3s - loss: 0.1129 - accuracy: 0.96 - ETA: 3s - loss: 0.1128 - accuracy: 0.96 - ETA: 3s - loss: 0.1128 - accuracy: 0.96 - ETA: 3s - loss: 0.1121 - accuracy: 0.96 - ETA: 3s - loss: 0.1112 - accuracy: 0.96 - ETA: 3s - loss: 0.1107 - accuracy: 0.96 - ETA: 2s - loss: 0.1104 - accuracy: 0.96 - ETA: 2s - loss: 0.1117 - accuracy: 0.96 - ETA: 2s - loss: 0.1117 - accuracy: 0.96 - ETA: 2s - loss: 0.1118 - accuracy: 0.96 - ETA: 2s - loss: 0.1118 - accuracy: 0.96 - ETA: 2s - loss: 0.1131 - accuracy: 0.96 - ETA: 2s - loss: 0.1125 - accuracy: 0.96 - ETA: 2s - loss: 0.1130 - accuracy: 0.96 - ETA: 2s - loss: 0.1133 - accuracy: 0.96 - ETA: 2s - loss: 0.1139 - accuracy: 0.96 - ETA: 2s - loss: 0.1135 - accuracy: 0.96 - ETA: 2s - loss: 0.1138 - accuracy: 0.96 - ETA: 2s - loss: 0.1133 - accuracy: 0.96 - ETA: 2s - loss: 0.1140 - accuracy: 0.96 - ETA: 2s - loss: 0.1151 - accuracy: 0.96 - ETA: 2s - loss: 0.1158 - accuracy: 0.96 - ETA: 2s - loss: 0.1158 - accuracy: 0.96 - ETA: 2s - loss: 0.1152 - accuracy: 0.96 - ETA: 2s - loss: 0.1145 - accuracy: 0.96 - ETA: 1s - loss: 0.1145 - accuracy: 0.96 - ETA: 1s - loss: 0.1148 - accuracy: 0.96 - ETA: 1s - loss: 0.1150 - accuracy: 0.96 - ETA: 1s - loss: 0.1157 - accuracy: 0.96 - ETA: 1s - loss: 0.1160 - accuracy: 0.96 - ETA: 1s - loss: 0.1161 - accuracy: 0.96 - ETA: 1s - loss: 0.1160 - accuracy: 0.96 - ETA: 1s - loss: 0.1162 - accuracy: 0.96 - ETA: 1s - loss: 0.1169 - accuracy: 0.96 - ETA: 1s - loss: 0.1166 - accuracy: 0.96 - ETA: 1s - loss: 0.1162 - accuracy: 0.96 - ETA: 1s - loss: 0.1160 - accuracy: 0.96 - ETA: 1s - loss: 0.1161 - accuracy: 0.96 - ETA: 1s - loss: 0.1159 - accuracy: 0.96 - ETA: 1s - loss: 0.1164 - accuracy: 0.96 - ETA: 1s - loss: 0.1158 - accuracy: 0.96 - ETA: 1s - loss: 0.1151 - accuracy: 0.96 - ETA: 1s - loss: 0.1147 - accuracy: 0.96 - ETA: 1s - loss: 0.1143 - accuracy: 0.96 - ETA: 0s - loss: 0.1139 - accuracy: 0.96 - ETA: 0s - loss: 0.1147 - accuracy: 0.96 - ETA: 0s - loss: 0.1145 - accuracy: 0.96 - ETA: 0s - loss: 0.1148 - accuracy: 0.96 - ETA: 0s - loss: 0.1146 - accuracy: 0.96 - ETA: 0s - loss: 0.1149 - accuracy: 0.96 - ETA: 0s - loss: 0.1153 - accuracy: 0.96 - ETA: 0s - loss: 0.1152 - accuracy: 0.96 - ETA: 0s - loss: 0.1152 - accuracy: 0.96 - ETA: 0s - loss: 0.1155 - accuracy: 0.96 - ETA: 0s - loss: 0.1149 - accuracy: 0.96 - ETA: 0s - loss: 0.1148 - accuracy: 0.96 - ETA: 0s - loss: 0.1146 - accuracy: 0.96 - ETA: 0s - loss: 0.1144 - accuracy: 0.96 - ETA: 0s - loss: 0.1143 - accuracy: 0.96 - ETA: 0s - loss: 0.1140 - accuracy: 0.96 - ETA: 0s - loss: 0.1135 - accuracy: 0.96 - ETA: 0s - loss: 0.1128 - accuracy: 0.96 - ETA: 0s - loss: 0.1125 - accuracy: 0.96 - 7s 229us/step - loss: 0.1122 - accuracy: 0.9670 - val_loss: 0.0364 - val_accuracy: 0.9908\n"
     ]
    },
    {
     "data": {
      "text/plain": [
       "<keras.callbacks.callbacks.History at 0x204f03ae7b8>"
      ]
     },
     "execution_count": 14,
     "metadata": {},
     "output_type": "execute_result"
    }
   ],
   "source": [
    "model.fit(X_train,Y_train,epochs=15,batch_size=30,validation_data=(X_test,Y_test),verbose=1)"
   ]
  },
  {
   "cell_type": "code",
   "execution_count": 15,
   "metadata": {},
   "outputs": [],
   "source": [
    "model.save(\"GTSRB\")"
   ]
  },
  {
   "cell_type": "code",
   "execution_count": 16,
   "metadata": {},
   "outputs": [],
   "source": [
    "del x\n",
    "del y"
   ]
  },
  {
   "cell_type": "code",
   "execution_count": 17,
   "metadata": {},
   "outputs": [],
   "source": [
    "df = pd.DataFrame(model.history.history)"
   ]
  },
  {
   "cell_type": "code",
   "execution_count": 18,
   "metadata": {},
   "outputs": [
    {
     "data": {
      "text/plain": [
       "<matplotlib.axes._subplots.AxesSubplot at 0x20480eacc88>"
      ]
     },
     "execution_count": 18,
     "metadata": {},
     "output_type": "execute_result"
    },
    {
     "data": {
      "image/png": "[encoded data removed]",
      "text/plain": [
       "<Figure size 432x288 with 1 Axes>"
      ]
     },
     "metadata": {
      "needs_background": "light"
     },
     "output_type": "display_data"
    }
   ],
   "source": [
    "df.plot()"
   ]
  },
  {
   "cell_type": "code",
   "execution_count": 27,
   "metadata": {},
   "outputs": [],
   "source": [
    "y_test = pd.read_csv(\"Test.csv\")\n",
    "labels = y_test['Path'].values\n",
    "y_test = y_test['ClassId'].values"
   ]
  },
  {
   "cell_type": "code",
   "execution_count": 28,
   "metadata": {},
   "outputs": [],
   "source": [
    "y_data=[]"
   ]
  },
  {
   "cell_type": "code",
   "execution_count": 30,
   "metadata": {},
   "outputs": [],
   "source": [
    "for i in labels:\n",
    "    \n",
    "    img = cv2.imread(i)\n",
    "    image = cv2.resize(img,(height,width))\n",
    "    y_data.append(image)"
   ]
  },
  {
   "cell_type": "code",
   "execution_count": 32,
   "metadata": {},
   "outputs": [],
   "source": [
    "y_data=np.array(y_data)\n",
    "y_data = y_data/255.0"
   ]
  },
  {
   "cell_type": "code",
   "execution_count": 33,
   "metadata": {},
   "outputs": [],
   "source": [
    "pred = model.predict_classes(y_data)\n"
   ]
  },
  {
   "cell_type": "code",
   "execution_count": 34,
   "metadata": {},
   "outputs": [
    {
     "data": {
      "text/plain": [
       "0.9543942992874109"
      ]
     },
     "execution_count": 34,
     "metadata": {},
     "output_type": "execute_result"
    }
   ],
   "source": [
    "from sklearn.metrics import accuracy_score\n",
    "accuracy_score(y_test, pred)"
   ]
  },
  {
   "cell_type": "code",
   "execution_count": 35,
   "metadata": {},
   "outputs": [],
   "source": [
    "from sklearn.metrics import classification_report,confusion_matrix"
   ]
  },
  {
   "cell_type": "code",
   "execution_count": 37,
   "metadata": {},
   "outputs": [
    {
     "name": "stdout",
     "output_type": "stream",
     "text": [
      "              precision    recall  f1-score   support\n",
      "\n",
      "           0       0.82      1.00      0.90        60\n",
      "           1       0.98      0.97      0.98       720\n",
      "           2       0.97      0.96      0.96       750\n",
      "           3       0.95      0.96      0.95       450\n",
      "           4       0.98      0.97      0.98       660\n",
      "           5       0.93      0.97      0.95       630\n",
      "           6       0.99      0.87      0.93       150\n",
      "           7       0.99      0.95      0.97       450\n",
      "           8       0.96      0.97      0.96       450\n",
      "           9       0.98      1.00      0.99       480\n",
      "          10       1.00      0.98      0.99       660\n",
      "          11       0.90      0.94      0.92       420\n",
      "          12       1.00      0.90      0.95       690\n",
      "          13       0.99      0.99      0.99       720\n",
      "          14       1.00      0.99      1.00       270\n",
      "          15       0.87      1.00      0.93       210\n",
      "          16       0.83      1.00      0.91       150\n",
      "          17       1.00      0.92      0.96       360\n",
      "          18       0.95      0.90      0.92       390\n",
      "          19       0.98      1.00      0.99        60\n",
      "          20       0.62      0.97      0.76        90\n",
      "          21       0.92      0.60      0.72        90\n",
      "          22       0.98      0.89      0.93       120\n",
      "          23       0.73      0.98      0.84       150\n",
      "          24       0.93      0.91      0.92        90\n",
      "          25       0.98      0.94      0.96       480\n",
      "          26       0.91      0.99      0.95       180\n",
      "          27       0.92      0.57      0.70        60\n",
      "          28       0.97      0.93      0.95       150\n",
      "          29       0.90      1.00      0.95        90\n",
      "          30       0.73      0.63      0.68       150\n",
      "          31       0.96      0.95      0.95       270\n",
      "          32       0.78      1.00      0.88        60\n",
      "          33       0.98      1.00      0.99       210\n",
      "          34       0.97      1.00      0.98       120\n",
      "          35       1.00      1.00      1.00       390\n",
      "          36       0.99      0.96      0.97       120\n",
      "          37       0.95      1.00      0.98        60\n",
      "          38       0.98      0.99      0.98       690\n",
      "          39       0.98      0.98      0.98        90\n",
      "          40       0.82      0.98      0.89        90\n",
      "          41       0.98      0.85      0.91        60\n",
      "          42       0.94      0.99      0.96        90\n",
      "\n",
      "    accuracy                           0.95     12630\n",
      "   macro avg       0.93      0.94      0.93     12630\n",
      "weighted avg       0.96      0.95      0.95     12630\n",
      "\n"
     ]
    }
   ],
   "source": [
    "print(classification_report(y_test, pred))"
   ]
  },
  {
   "cell_type": "code",
   "execution_count": 38,
   "metadata": {},
   "outputs": [
    {
     "name": "stdout",
     "output_type": "stream",
     "text": [
      "[[ 60   0   0 ...   0   0   0]\n",
      " [ 12 698   2 ...   0   0   0]\n",
      " [  0   6 718 ...   0   0   0]\n",
      " ...\n",
      " [  0   0   0 ...  88   0   0]\n",
      " [  0   0   0 ...   0  51   0]\n",
      " [  0   0   0 ...   0   0  89]]\n"
     ]
    }
   ],
   "source": [
    "print(confusion_matrix(y_test, pred))"
   ]
  },
  {
   "cell_type": "code",
   "execution_count": null,
   "metadata": {},
   "outputs": [],
   "source": []
  }
 ],
 "metadata": {
  "kernelspec": {
   "display_name": "Python 3",
   "language": "python",
   "name": "python3"
  },
  "language_info": {
   "codemirror_mode": {
    "name": "ipython",
    "version": 3
   },
   "file_extension": ".py",
   "mimetype": "text/x-python",
   "name": "python",
   "nbconvert_exporter": "python",
   "pygments_lexer": "ipython3",
   "version": "3.7.3"
  }
 },
 "nbformat": 4,
 "nbformat_minor": 2
}
